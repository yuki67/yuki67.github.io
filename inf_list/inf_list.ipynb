{
 "cells": [
  {
   "cell_type": "markdown",
   "metadata": {
    "deletable": true,
    "editable": true
   },
   "source": [
    "# pythonで無限リスト\n",
    "\n",
    "[この前](http://e-yuki67.hatenablog.com/entry/2017/03/05/234915)pythonのジェネレータを使って作った無限リストには、一度計算した値を覚えておく機能がないため実行速度がとても遅いという問題がありました。SICPを参考にして試行錯誤した結果ラムダ式を使った遅延評価を使うことでメモ化付きの無限リストを作ることができたので書きます。"
   ]
  },
  {
   "cell_type": "markdown",
   "metadata": {
    "deletable": true,
    "editable": true
   },
   "source": [
    "## 参考文献\n",
    "\n",
    "参考にしたのは前の記事と同じで[structure and interpretation of computer programs](https://mitpress.mit.edu/sicp/full-text/book/book.html)の3.5節です。メモ化関数(memo_proc)を使った高速化が参考になりました。また後半の級数についての関数は練習問題3.53-3.61を参考にしました。"
   ]
  },
  {
   "cell_type": "markdown",
   "metadata": {
    "deletable": true,
    "editable": true
   },
   "source": [
    "## 遅延評価\n",
    "\n",
    "遅延評価とは式の値を定義されたときには計算せず、必要になってから初めて計算するという計算方法です。つまりa = f(x)と変数aを定義してもそれだけではf(x)が計算されるとは限らず、別の部分(たとえば\"b = a + 1\")でaが参照されて初めてf(x)が計算されます。aが参照されなければ、f(x)が計算されないでプログラムが終わることもありえます。\n",
    "\n",
    "### pythonの評価順序\n",
    "\n",
    "pythonのプログラムを全く変更しないで遅延評価を使うことはできません。なぜなら、pythonが「変数に式の値を代入するときは式を計算する」と言う決まりを持っているためです。"
   ]
  },
  {
   "cell_type": "code",
   "execution_count": 1,
   "metadata": {
    "collapsed": false,
    "deletable": true,
    "editable": true
   },
   "outputs": [
    {
     "name": "stdout",
     "output_type": "stream",
     "text": [
      "f called.\n",
      "a is 1\n",
      "b is 11\n"
     ]
    }
   ],
   "source": [
    "def f(x):\n",
    "    \"\"\" 呼ばれるとf calledとprintする関数 \"\"\"\n",
    "    print(\"f called.\")\n",
    "    return x + 1\n",
    "\n",
    "a = f(0) # こう書いた時点でf(x)は計算される\n",
    "print(\"a is\", a)\n",
    "b = a + 10\n",
    "print(\"b is\", b)"
   ]
  },
  {
   "cell_type": "markdown",
   "metadata": {
    "deletable": true,
    "editable": true
   },
   "source": [
    "\"f called\"が\"a is 1\"よりも先に出力されていることから、f(0)が実行されているのは\"b = a + 10\"が実行されているときではなくa = f(0)が実行されているときだとわかります。\n",
    "\n",
    "### 遅延評価の実装\n",
    "\n",
    "そんなpythonで遅延評価を行うために、遅延評価させたい式を呼ぶゼロ引数関数を変数に代入し、値が必要になったときはその関数を呼ぶという工夫をします。pythonには無名関数を作るラムダ記法があるので、以下のように書けます。"
   ]
  },
  {
   "cell_type": "code",
   "execution_count": 2,
   "metadata": {
    "collapsed": false,
    "deletable": true,
    "editable": true
   },
   "outputs": [
    {
     "name": "stdout",
     "output_type": "stream",
     "text": [
      "a is <function <lambda> at 0x000001FBDE38FBF8>\n",
      "f called.\n",
      "b is 11\n",
      "f called.\n",
      "a() is 1\n"
     ]
    }
   ],
   "source": [
    "a = lambda: f(0)     # aを「f(0)を呼び出す引数を取らない関数」とする\n",
    "print(\"a is\", a)\n",
    "b = a() + 10         # aを呼び出す、すなわちf(0)の値を取得する\n",
    "print(\"b is\", b)\n",
    "print(\"a() is\", a()) # もう一度aを呼び出す"
   ]
  },
  {
   "cell_type": "markdown",
   "metadata": {
    "collapsed": true,
    "deletable": true,
    "editable": true
   },
   "source": [
    "出力の一行目から、aがf(0)の値ではなくて関数であることがわかります。2, 4行目から、aの値が参照されるとそのたびにf(0)が計算されていることがわかります。\n",
    "\n",
    "### 遅延評価の組み合わせ\n",
    "\n",
    "遅延評価される値を組み合わせて別の値を遅延評価されるようにすることもできます。"
   ]
  },
  {
   "cell_type": "code",
   "execution_count": 3,
   "metadata": {
    "collapsed": false,
    "deletable": true,
    "editable": true
   },
   "outputs": [
    {
     "name": "stdout",
     "output_type": "stream",
     "text": [
      "definition end.\n",
      "f called.\n",
      "f called.\n",
      "c() is 22\n"
     ]
    }
   ],
   "source": [
    "a = lambda: f(0)\n",
    "b = lambda: a() + 10\n",
    "c = lambda: a() + b() + 10\n",
    "\n",
    "print(\"definition end.\")\n",
    "print(\"c() is\", c())"
   ]
  },
  {
   "cell_type": "markdown",
   "metadata": {
    "deletable": true,
    "editable": true
   },
   "source": [
    "b()を計算するときにはa()が一回呼ばれ、c()を計算するときにはa()とb()が一回ずつ呼ばれるので、c()を計算するときにf(0)が二回呼ばれます。このことは\"f called \"が二回呼ばれていることから確かめられます。またa,b,cを定義しただけではf(0)は呼ばれないので、出力の最初の行は\"definition end.\"となっています。"
   ]
  },
  {
   "cell_type": "markdown",
   "metadata": {
    "deletable": true,
    "editable": true
   },
   "source": [
    "## 無限リスト\n",
    "\n",
    "この遅延評価の仕組みを使うと、値を無限に持つリストが作れます。\n",
    "\n",
    "### 簡単な無限リスト\n",
    "\n",
    "リストが値を計算するのは先頭の要素だけで、2番目以降の要素は遅延評価する、という考え方が基本となります。つまり、\n",
    "\n",
    "```python\n",
    "some_list = (first_value, lambda: list_tail()) # list_tail()はリストを返す\n",
    "```\n",
    "\n",
    "と言う形を用い、list_tail()の中でsome_listを再帰的に用いればsome_listの長さが無限になるという仕組みです。一番簡単な例を示します。"
   ]
  },
  {
   "cell_type": "code",
   "execution_count": 4,
   "metadata": {
    "collapsed": false,
    "deletable": true,
    "editable": true
   },
   "outputs": [
    {
     "name": "stdout",
     "output_type": "stream",
     "text": [
      "(1, <function <lambda> at 0x000001FBDE803E18>)\n",
      "1\n",
      "(1, <function <lambda> at 0x000001FBDE803E18>)\n",
      "1\n",
      "(1, <function <lambda> at 0x000001FBDE803E18>)\n",
      "1\n",
      "(1, <function <lambda> at 0x000001FBDE803E18>)\n",
      "1\n",
      "(1, <function <lambda> at 0x000001FBDE803E18>)\n",
      "1\n"
     ]
    }
   ],
   "source": [
    "ones = (1, lambda: ones)\n",
    "\n",
    "for _ in range(5):\n",
    "    print(ones)\n",
    "    print(ones[0])\n",
    "    ones = ones[1]() # リストを一つ進める"
   ]
  },
  {
   "cell_type": "markdown",
   "metadata": {
    "deletable": true,
    "editable": true
   },
   "source": [
    "「onesの第二項以降はonesそのものである」と定義しているので、for文の中の\"ones = ones\\[1\\]()\"でonesを一つ進めているにもかかわらず、どれだけ項を進めてもones[0]で取り出されるのは1です。\n",
    "\n",
    "### ユーティリティ関数\n",
    "\n",
    "便利のためにユーティリティ関数を定義しておきます。"
   ]
  },
  {
   "cell_type": "code",
   "execution_count": 5,
   "metadata": {
    "collapsed": true,
    "deletable": true,
    "editable": true
   },
   "outputs": [],
   "source": [
    "def car(seq):\n",
    "    \"\"\" seqの初項を返す \"\"\"\n",
    "    return seq[0]\n",
    "\n",
    "def cdr(seq):\n",
    "    \"\"\" seqの第2項以降を返す \"\"\"\n",
    "    return seq[1]()\n",
    "\n",
    "def seq_ref(seq, n=0):\n",
    "    \"\"\" seqの第n項を表示する \"\"\"\n",
    "    for _ in range(n):\n",
    "        seq = cdr(seq)\n",
    "    print(car(seq))\n",
    "\n",
    "def seq_print(seq, n=10, end=\", \"):\n",
    "    \"\"\" seqの最初のn項を表示する \"\"\"\n",
    "    for i in range(n):\n",
    "        print(car(seq), end=end)\n",
    "        seq = cdr(seq)\n",
    "    print(\"\")\n",
    "        \n",
    "def add(s, t):\n",
    "    \"\"\" 数列としての和s+tを返す \"\"\"\n",
    "    return (car(s) + car(t), lambda: add(cdr(s), cdr(t)))\n"
   ]
  },
  {
   "cell_type": "markdown",
   "metadata": {
    "deletable": true,
    "editable": true
   },
   "source": [
    "### 無限リストの例"
   ]
  },
  {
   "cell_type": "code",
   "execution_count": 6,
   "metadata": {
    "collapsed": false,
    "deletable": true,
    "editable": true
   },
   "outputs": [
    {
     "name": "stdout",
     "output_type": "stream",
     "text": [
      "1, 2, 3, 4, 5, 6, 7, 8, 9, 10, \n"
     ]
    }
   ],
   "source": [
    "# 自然数\n",
    "integer = (1, lambda: add(integer, ones))\n",
    "seq_print(integer)"
   ]
  },
  {
   "cell_type": "code",
   "execution_count": 7,
   "metadata": {
    "collapsed": false,
    "deletable": true,
    "editable": true
   },
   "outputs": [
    {
     "name": "stdout",
     "output_type": "stream",
     "text": [
      "1, 1, 2, 3, 5, 8, 13, 21, 34, 55, \n"
     ]
    }
   ],
   "source": [
    "# フィボナッチ数列\n",
    "fib = (1, lambda: (1, lambda: add(cdr(fib), fib)))\n",
    "seq_print(fib)"
   ]
  },
  {
   "cell_type": "markdown",
   "metadata": {
    "deletable": true,
    "editable": true
   },
   "source": [
    "## メモ化\n",
    "\n",
    "### 問題点\n",
    "\n",
    "ここまで使ってきた遅延評価の仕組みには同じ計算を不必要に何度もしてしてしまうという問題点があります。たとえば、この例ではf(0)が2回計算されます。"
   ]
  },
  {
   "cell_type": "code",
   "execution_count": 8,
   "metadata": {
    "collapsed": false,
    "deletable": true,
    "editable": true,
    "scrolled": true
   },
   "outputs": [
    {
     "name": "stdout",
     "output_type": "stream",
     "text": [
      "f called.\n",
      "1\n",
      "f called.\n",
      "1\n"
     ]
    }
   ],
   "source": [
    "a = lambda: f(0)\n",
    "print(a())\n",
    "print(a())"
   ]
  },
  {
   "cell_type": "markdown",
   "metadata": {
    "deletable": true,
    "editable": true
   },
   "source": [
    "ここではf(0)の計算にかかる時間が僅かなのであまり気になりませんが、再帰的な定義などによって何回も呼ばれるときは計算の負荷が無視できなくなります。前に定義したfib()で第30項を計算するのは厳しいでしょう。\n",
    "\n",
    "### メモ化の実装\n",
    "\n",
    "そこで一回目の呼び出しのときに値を保存しておいて、2回目以降の呼び出しでは保存した値をそのまま返すようにします。\n",
    "\n",
    "そのために、今まで考えてきた形の遅延評価のための関数を受取り、値を保存するようにした関数を返す関数memoize()をつくります。pythonではメソッドが変数を持つことができるので、memoize()の中で新しく関数を定義してその関数自身に関数の値をresultとしてもたせます。"
   ]
  },
  {
   "cell_type": "code",
   "execution_count": 9,
   "metadata": {
    "collapsed": true,
    "deletable": true,
    "editable": true
   },
   "outputs": [],
   "source": [
    "def memoize(func):\n",
    "    \"\"\" funcに値を保存する機能を追加したものを返す \"\"\"\n",
    "    def temp():\n",
    "        if temp.result is None:  # もしresultが計算されていなかったら...\n",
    "            temp.result = func() # funcの値を計算し、保存する\n",
    "        return temp.result       # 保存された値を返す\n",
    "    temp.result = None\n",
    "    return temp # 新しく作った関数を返す"
   ]
  },
  {
   "cell_type": "markdown",
   "metadata": {
    "deletable": true,
    "editable": true
   },
   "source": [
    "memoize()を使うと、遅延評価を何度行っても関連づいた関数が呼ばれるのは一度だけです。"
   ]
  },
  {
   "cell_type": "code",
   "execution_count": 10,
   "metadata": {
    "collapsed": false,
    "deletable": true,
    "editable": true,
    "scrolled": true
   },
   "outputs": [
    {
     "name": "stdout",
     "output_type": "stream",
     "text": [
      "f called.\n",
      "1\n",
      "1\n",
      "1\n",
      "1\n"
     ]
    }
   ],
   "source": [
    "a = memoize(lambda: f(0))\n",
    "print(a())\n",
    "print(a())\n",
    "print(a())\n",
    "print(a())"
   ]
  },
  {
   "cell_type": "markdown",
   "metadata": {
    "deletable": true,
    "editable": true
   },
   "source": [
    "### メモ化付きの無限リスト\n",
    "\n",
    "無限リストにもメモ化を組み込むために、関数を新たに一つ定義しadd()を書き直します。"
   ]
  },
  {
   "cell_type": "code",
   "execution_count": 11,
   "metadata": {
    "collapsed": true,
    "deletable": true,
    "editable": true
   },
   "outputs": [],
   "source": [
    "def cons(a, b):\n",
    "    \"\"\" 初項a, 第二項以降がbであるリストを返す\"\"\"\n",
    "    return (a, memoize(b))\n",
    "\n",
    "\n",
    "def add(s, t):\n",
    "    \"\"\" 数列としての和s+tを返す \"\"\"\n",
    "    return cons(car(s) + car(t), lambda: add(cdr(s), cdr(t)))"
   ]
  },
  {
   "cell_type": "markdown",
   "metadata": {
    "deletable": true,
    "editable": true
   },
   "source": [
    "このconsとaddを使えばメモ化付きの無限リストが作れます。\n",
    "\n",
    "メモ化によってfibも常識的な速度で計算できます。"
   ]
  },
  {
   "cell_type": "code",
   "execution_count": 12,
   "metadata": {
    "collapsed": false,
    "deletable": true,
    "editable": true,
    "scrolled": false
   },
   "outputs": [
    {
     "name": "stdout",
     "output_type": "stream",
     "text": [
      "70330367711422815821835254877183549770181269836358732742604905087154537118196933579742249494562611733487750449241765991088186363265450223647106012053374121273867339111198139373125598767690091902245245323403501\n"
     ]
    }
   ],
   "source": [
    "fib = cons(1, lambda: cons(1, lambda: add(cdr(fib), fib)))\n",
    "seq_ref(fib, 1000)"
   ]
  },
  {
   "cell_type": "markdown",
   "metadata": {
    "deletable": true,
    "editable": true
   },
   "source": [
    "### 無限リストの例\n",
    "\n",
    "もういくつか無限リストの例を示します。"
   ]
  },
  {
   "cell_type": "code",
   "execution_count": 13,
   "metadata": {
    "collapsed": false,
    "deletable": true,
    "editable": true
   },
   "outputs": [
    {
     "name": "stdout",
     "output_type": "stream",
     "text": [
      "1, 2, 4, 8, 16, 32, 64, 128, 256, 512, \n"
     ]
    }
   ],
   "source": [
    "# 2の階乗\n",
    "two_powered = cons(1, lambda: add(two_powered, two_powered))\n",
    "seq_print(two_powered)"
   ]
  },
  {
   "cell_type": "code",
   "execution_count": 14,
   "metadata": {
    "collapsed": false,
    "deletable": true,
    "editable": true
   },
   "outputs": [
    {
     "name": "stdout",
     "output_type": "stream",
     "text": [
      "1, 1, 2, 6, 24, 120, 720, 5040, 40320, 362880, \n"
     ]
    }
   ],
   "source": [
    "def mul(s, t):\n",
    "    \"\"\" 数列としての積s*tを返す \"\"\"\n",
    "    return cons(car(s) * car(t), lambda: mul(cdr(s), cdr(t)))\n",
    "\n",
    "# 階乗\n",
    "fact = cons(1, lambda: mul(fact, integer))\n",
    "seq_print(fact)"
   ]
  },
  {
   "cell_type": "code",
   "execution_count": 15,
   "metadata": {
    "collapsed": false,
    "deletable": true,
    "editable": true
   },
   "outputs": [
    {
     "name": "stdout",
     "output_type": "stream",
     "text": [
      "0, 1, 3, 6, 10, 15, 21, 28, 36, 45, \n"
     ]
    }
   ],
   "source": [
    "def sum(s):\n",
    "    \"\"\" sの累積和 \"\"\"\n",
    "    ans = cons(0, lambda: add(s, ans))\n",
    "    return ans\n",
    "\n",
    "# 自然数の累積和\n",
    "seq_print(sum(integer))"
   ]
  },
  {
   "cell_type": "code",
   "execution_count": 16,
   "metadata": {
    "collapsed": false,
    "deletable": true,
    "editable": true,
    "scrolled": true
   },
   "outputs": [
    {
     "name": "stdout",
     "output_type": "stream",
     "text": [
      "1/7の10進表示\n",
      "1, 4, 2, 8, 5, 7, 1, 4, 2, 8, \n",
      "1/7の小数点第1000桁\n",
      "5\n",
      "1/3の2進表示\n",
      "0, 1, 0, 1, 0, 1, 0, 1, 0, 1, \n"
     ]
    }
   ],
   "source": [
    "def expand(num, den, radix):\n",
    "    \"\"\" x_n = num/denのradix進表示の小数点n桁目 \"\"\"\n",
    "    ans = cons((num * radix) // den, lambda: expand((num*radix)%den, den, radix))\n",
    "    return ans\n",
    "\n",
    "print(\"1/7の10進表示\")\n",
    "seq_print(expand(1, 7, 10))\n",
    "print(\"1/7の小数点第1000桁\")\n",
    "seq_ref(expand(1, 7, 10), 1000)\n",
    "print(\"1/3の2進表示\")\n",
    "seq_print(expand(1, 3, 2))"
   ]
  },
  {
   "cell_type": "markdown",
   "metadata": {
    "deletable": true,
    "editable": true
   },
   "source": [
    "## 幾何級数を計算する\n",
    "\n",
    "無限といえば級数です。\n",
    "\n",
    "### $e$ の計算\n",
    "\n",
    "手始めに$e$を計算します。\n",
    "\n",
    "$$e = \\frac{1}{1!} + \\frac{1}{2!} + \\frac{1}{3!} + \\frac{1}{4!} + ...$$\n",
    "\n",
    "なので、$e$に収束する数列approximate_e()を定義できます。"
   ]
  },
  {
   "cell_type": "code",
   "execution_count": 17,
   "metadata": {
    "collapsed": false,
    "deletable": true,
    "editable": true
   },
   "outputs": [
    {
     "name": "stdout",
     "output_type": "stream",
     "text": [
      "eの近似値\n",
      "0\n",
      "1.0\n",
      "2.0\n",
      "2.5\n",
      "2.6666666666666665\n",
      "2.708333333333333\n",
      "2.7166666666666663\n",
      "2.7180555555555554\n",
      "2.7182539682539684\n",
      "2.71827876984127\n",
      "\n",
      "第300項\n",
      "2.7182818284590455\n"
     ]
    }
   ],
   "source": [
    "def map(s, f):\n",
    "    \"\"\" sの各項にfを適用する \"\"\"\n",
    "    return cons(f(car(s)), lambda: map(cdr(s), f))\n",
    "\n",
    "approximate_e = sum(map(fact, lambda x: 1/x))\n",
    "print(\"eの近似値\")\n",
    "seq_print(approximate_e, end=\"\\n\")\n",
    "print(\"第300項\")\n",
    "seq_ref(approximate_e, 300)"
   ]
  },
  {
   "cell_type": "markdown",
   "metadata": {
    "deletable": true,
    "editable": true
   },
   "source": [
    "### $e^x$ の計算\n",
    "\n",
    "さらに一般化して、$x$を受け取り$e^x$に収束する数列を返す関数eを定義できます。"
   ]
  },
  {
   "cell_type": "code",
   "execution_count": 18,
   "metadata": {
    "collapsed": false,
    "deletable": true,
    "editable": true
   },
   "outputs": [
    {
     "name": "stdout",
     "output_type": "stream",
     "text": [
      "2.7182818284590455\n",
      "7.389056098930649\n",
      "20.08553692318766\n",
      "54.59815003314426\n"
     ]
    }
   ],
   "source": [
    "def scale(s, k):\n",
    "    \"\"\" sをk倍したものを返す \"\"\"\n",
    "    return map(s, lambda x: k * x)\n",
    "\n",
    "def x_powers(x):\n",
    "    \"\"\" 初項init, 公比xの等比級数を返す \"\"\"\n",
    "    return cons(1, lambda: scale(x_powers(x), x))\n",
    "\n",
    "def series(s):\n",
    "    \"\"\" sを係数に持つ幾何級数の各項を計算する関数を返す \"\"\"\n",
    "    return lambda x: mul(s, x_powers(x))\n",
    "\n",
    "def series_sum(s):\n",
    "    \"\"\" sを係数に持つ幾何級数の累積和を計算する関数を返す \"\"\"\n",
    "    return lambda x: sum(series(s)(x))\n",
    "\n",
    "e_coeff = map(fact, lambda x: 1/x) # e^xの係数\n",
    "e = series_sum(e_coeff)\n",
    "seq_ref(e(1), 30)\n",
    "seq_ref(e(2), 30)\n",
    "seq_ref(e(3), 30)\n",
    "seq_ref(e(4), 30)"
   ]
  },
  {
   "cell_type": "markdown",
   "metadata": {
    "deletable": true,
    "editable": true
   },
   "source": [
    "### 直接的な $e^x$ の計算\n",
    "\n",
    "上のようにすれば$e^x$の計算ができるのですが、この定義の仕方だとはっきり言って普通に定義したほうが簡単にできます。つまり\"e_coeff = map(fact, lambda x: 1/x)\"などと定義しなくても"
   ]
  },
  {
   "cell_type": "code",
   "execution_count": 19,
   "metadata": {
    "collapsed": false,
    "deletable": true,
    "editable": true
   },
   "outputs": [
    {
     "name": "stdout",
     "output_type": "stream",
     "text": [
      "2.7182818284590455\n",
      "7.389056098930649\n",
      "20.08553692318766\n",
      "54.59815003314426\n"
     ]
    }
   ],
   "source": [
    "def fact_func(n):\n",
    "        return n * fact_func(n-1) if n > 1 else 1\n",
    "\n",
    "def e(x, n):\n",
    "    ans = 0\n",
    "    for i in range(n):\n",
    "        ans += x ** i / fact_func(i)\n",
    "    return ans\n",
    "\n",
    "print(e(1, 30))\n",
    "print(e(2, 30))\n",
    "print(e(3, 30))\n",
    "print(e(4, 30))"
   ]
  },
  {
   "cell_type": "markdown",
   "metadata": {
    "deletable": true,
    "editable": true
   },
   "source": [
    "とできるのです。こうした方が読みやすい上に遅延評価がどうだとか考える必要もありません。このままだと遅延評価の意味が無いので、$e^x$をもう少し面白い方法で定義し直します。\n",
    "\n",
    "### $e^x$ の陰な定義\n",
    "\n",
    "注目するのは、「$e^x$を積分すると定数部分を除いて$e^x$に等しい」という数学的な事実です。幾何級数に対して積分を行うと項が一つ後ろにずれるので、もと級数と積分した級数の間に関係があれば、級数を陰に定義することができます。\n",
    "\n",
    "まず、幾何級数の係数を受け取ってそれを積分した級数の係数を返す関数を書きます。"
   ]
  },
  {
   "cell_type": "code",
   "execution_count": 20,
   "metadata": {
    "collapsed": false,
    "deletable": true,
    "editable": true,
    "scrolled": true
   },
   "outputs": [
    {
     "name": "stdout",
     "output_type": "stream",
     "text": [
      "1, 1, 2, 6, 24, 120, 720, 5040, 40320, 362880, \n",
      "e^xの係数\n",
      "1.0, 1.0, 0.5, 0.16666666666666666, 0.041666666666666664, 0.008333333333333333, 0.001388888888888889, \n",
      "e^xを積分した係数(初項を除く)\n",
      "1.0, 0.5, 0.16666666666666666, 0.041666666666666664, 0.008333333333333333, 0.0013888888888888887, 0.0001984126984126984, \n"
     ]
    }
   ],
   "source": [
    "def integrate_series(s):\n",
    "    \"\"\" 級数sを積分した級数を返す、ただし定数項は(不定なので)除く \"\"\"\n",
    "    return mul(s, map(integer, lambda x: 1/ x))\n",
    "\n",
    "seq_print(fact)\n",
    "e_coeff = map(fact, lambda x: 1/x) # e^xの係数\n",
    "print(\"e^xの係数\")\n",
    "seq_print(e_coeff, 7)\n",
    "print(\"e^xを積分した係数(初項を除く)\")\n",
    "seq_print(integrate_series(e_coeff), 7)"
   ]
  },
  {
   "cell_type": "markdown",
   "metadata": {
    "deletable": true,
    "editable": true
   },
   "source": [
    "$e^x$を積分したときの係数が$e^x$の係数と初項を除いて同じことがわかります。\n",
    "\n",
    "このことを用いて、e_coeffを再帰的に(陰に)定義します。"
   ]
  },
  {
   "cell_type": "code",
   "execution_count": 21,
   "metadata": {
    "collapsed": false,
    "deletable": true,
    "editable": true
   },
   "outputs": [
    {
     "name": "stdout",
     "output_type": "stream",
     "text": [
      "2.7182818284590455\n",
      "7.389056098930649\n",
      "20.08553692318766\n",
      "54.59815003314426\n"
     ]
    }
   ],
   "source": [
    "# e_coeffは初項が1で、それ以降は「e_coeffを積分した級数から初項を除いたもの」である\n",
    "e_coeff = cons(1, lambda: integrate_series(e_coeff))\n",
    "e = series_sum(e_coeff)\n",
    "seq_ref(e(1), 30)\n",
    "seq_ref(e(2), 30)\n",
    "seq_ref(e(3), 30)\n",
    "seq_ref(e(4), 30)"
   ]
  },
  {
   "cell_type": "markdown",
   "metadata": {
    "deletable": true,
    "editable": true
   },
   "source": [
    "### 陰に定義できる他の関数\n",
    "\n",
    "級数の陰な定義の便利な点は$e^x$以外の関数を定義するときにも使える点です。たとえばsinとcosは次のように定義できます。"
   ]
  },
  {
   "cell_type": "code",
   "execution_count": 22,
   "metadata": {
    "collapsed": false,
    "deletable": true,
    "editable": true,
    "scrolled": true
   },
   "outputs": [
    {
     "name": "stdout",
     "output_type": "stream",
     "text": [
      "cos\n",
      "0.8660254037844386\n",
      "0.7071067811865475\n",
      "0.5000000000000001\n",
      "sin\n",
      "0.49999999999999994\n",
      "0.7071067811865475\n",
      "0.8660254037844386\n"
     ]
    }
   ],
   "source": [
    "from math import pi\n",
    "\n",
    "cos_coeff = cons(1, lambda: scale(integrate_series(sin_coeff), -1))\n",
    "sin_coeff = cons(0, lambda: integrate_series(cos_coeff))\n",
    "cos = series_sum(cos_coeff)\n",
    "sin = series_sum(sin_coeff)\n",
    "\n",
    "print(\"cos\")\n",
    "seq_ref(cos(pi / 6), 30)\n",
    "seq_ref(cos(pi / 4), 30)\n",
    "seq_ref(cos(pi / 3), 30)\n",
    "print(\"sin\")\n",
    "seq_ref(sin(pi / 6), 30)\n",
    "seq_ref(sin(pi / 4), 30)\n",
    "seq_ref(sin(pi / 3), 30)"
   ]
  },
  {
   "cell_type": "markdown",
   "metadata": {
    "deletable": true,
    "editable": true
   },
   "source": [
    "### 級数の積\n",
    "\n",
    "ところで、${sin}^2(x) + {cos}^2(x) = 1$は$x$がいくらであってもいつでも成り立つはずです。このことを確認してみます。\n",
    "\n",
    "そのためには${sin}^2, {cos}^2$の級数展開を求める必要があるので、級数の掛け算をする関数mul_coeff()を定義します。mul_coeff()の計算には\n",
    "\n",
    "$$(a_0+a_1x+a_2x^2+\\cdots)(b_0+b_1x+b_2x^2+\\cdots) = a_0b_0 + a_0(b_1x+b_2x^2+\\cdots) + (a_1x+a_2x^2+\\cdots)(b_0+b_1x+b_2x^2+\\cdots)$$\n",
    "\n",
    "という関係を利用します。"
   ]
  },
  {
   "cell_type": "code",
   "execution_count": 23,
   "metadata": {
    "collapsed": false,
    "deletable": true,
    "editable": true
   },
   "outputs": [
    {
     "name": "stdout",
     "output_type": "stream",
     "text": [
      "1.0\n",
      "1.0\n",
      "1.0\n",
      "1.0000000000000004\n",
      "0.9999999999999993\n",
      "0.9999999999999858\n",
      "0.9999999999936162\n"
     ]
    }
   ],
   "source": [
    "def mul_coeff(s, t):\n",
    "    \"\"\" sとtの多項式としての積 \"\"\"\n",
    "    return cons(car(s) * car(t), lambda: add(scale(cdr(t), car(s)), mul_coeff(cdr(s), t)))\n",
    "\n",
    "maybe_one_coeff = add(mul_coeff(sin_coeff, sin_coeff), mul_coeff(cos_coeff, cos_coeff)) \n",
    "maybe_one = series_sum(maybe_one_coeff)\n",
    "\n",
    "seq_ref(maybe_one(0.1), 10)\n",
    "seq_ref(maybe_one(0.5), 10)\n",
    "seq_ref(maybe_one(1.0), 10)\n",
    "seq_ref(maybe_one(2.0), 10)\n",
    "seq_ref(maybe_one(3.0), 10)\n",
    "seq_ref(maybe_one(4.0), 10)\n",
    "seq_ref(maybe_one(10.0), 10)"
   ]
  },
  {
   "cell_type": "markdown",
   "metadata": {
    "deletable": true,
    "editable": true
   },
   "source": [
    "${sin}^2(x) + {cos}^2(x)$がほぼ1になっていることが確認できます。\n",
    "\n",
    "### 級数の割り算\n",
    "\n",
    "掛け算ができたので割り算もやります。割り算は掛け算より複雑です。\n",
    "\n",
    "#### 級数の逆数\n",
    "\n",
    "まず多項式の逆数を考えます。$S$を級数として\n",
    "\n",
    "$$ 1 \\div S = X $$\n",
    "\n",
    "を求めることを考えます。\n",
    "\n",
    "$S=s_c + S_r$($s_c$は定数、$S_r$は級数)として\n",
    "\n",
    "$$ S \\cdot X = 1$$\n",
    "$$ (s_c + S_r) \\cdot X = 1$$\n",
    "$$ s_c \\cdot X + S_r \\cdot X = 1$$\n",
    "$$ X = \\frac{1}{s_c}(1 - S_r \\cdot X) $$\n",
    "\n",
    "となります。$S_r$には定数項が含まれないので、最後の式の右辺にある$S_r \\cdot X$にも定数項が含まれないことがポイントです。これによって最初にXの定数項を計算し、それ以外の項は$-S_r \\cdot X$の部分から逐次に計算することができます。\n",
    "\n",
    "コードにします。"
   ]
  },
  {
   "cell_type": "code",
   "execution_count": 24,
   "metadata": {
    "collapsed": false,
    "deletable": true,
    "editable": true
   },
   "outputs": [],
   "source": [
    "def reciprocal(s):\n",
    "    \"\"\" 級数としての逆数1/sを返す \"\"\"\n",
    "    return cons(1/car(s), lambda: scale(mul_coeff(cdr(s), reciprocal(s)), -1))"
   ]
  },
  {
   "cell_type": "markdown",
   "metadata": {
    "deletable": true,
    "editable": true
   },
   "source": [
    "あっているか確認するために$sec(x)$を計算してみます。"
   ]
  },
  {
   "cell_type": "code",
   "execution_count": 25,
   "metadata": {
    "collapsed": false,
    "deletable": true,
    "editable": true
   },
   "outputs": [
    {
     "name": "stdout",
     "output_type": "stream",
     "text": [
      "cosの係数\n",
      "1, -0.0, -0.5, 0.0, 0.041666666666666664, -0.0, -0.0013888888888888887, 0.0, 2.4801587301587298e-05, -0.0, \n",
      "secの係数\n",
      "1.0, 0.0, 0.5, -0.0, 0.20833333333333334, -0.0, 0.08472222222222223, -0.0, 0.034350198412698416, -0.0, \n",
      "maybe_oneの係数\n",
      "1.0, 0.0, 0.0, 0.0, 0.0, 0.0, 0.0, 0.0, 0.0, 0.0, \n"
     ]
    }
   ],
   "source": [
    "sec_coeff = reciprocal(cos_coeff)\n",
    "sec = series_sum(sec_coeff)\n",
    "\n",
    "maybe_one_coeff = mul_coeff(cos_coeff, sec_coeff) \n",
    "maybe_one = series_sum(maybe_one_coeff)\n",
    "\n",
    "print(\"cosの係数\")\n",
    "seq_print(cos_coeff, 10)\n",
    "print(\"secの係数\")\n",
    "seq_print(sec_coeff, 10)\n",
    "print(\"maybe_oneの係数\")\n",
    "seq_print(maybe_one_coeff, 10)"
   ]
  },
  {
   "cell_type": "markdown",
   "metadata": {
    "deletable": true,
    "editable": true
   },
   "source": [
    "maybe_oneの計算はせずに係数を表示させました。cosとsecは係数に値を持っているにも関わらずそれらの積は係数が0なことから、たしかにsecがcosの逆数なことがわかります。\n",
    "\n",
    "#### 一般の級数の割り算\n",
    "\n",
    "逆数の計算ができれば一般の割り算も簡単です。"
   ]
  },
  {
   "cell_type": "code",
   "execution_count": 26,
   "metadata": {
    "collapsed": true,
    "deletable": true,
    "editable": true
   },
   "outputs": [],
   "source": [
    "def div_coeff(s, t):\n",
    "    \"\"\" 級数としての逆数s/tを返す \"\"\"\n",
    "    return mul_coeff(s, reciprocal(t))"
   ]
  },
  {
   "cell_type": "markdown",
   "metadata": {
    "deletable": true,
    "editable": true
   },
   "source": [
    "$tan(x) = sin(x) \\div cos(x)$で確認します。"
   ]
  },
  {
   "cell_type": "code",
   "execution_count": 27,
   "metadata": {
    "collapsed": false,
    "deletable": true,
    "editable": true
   },
   "outputs": [
    {
     "name": "stdout",
     "output_type": "stream",
     "text": [
      "0.0\n",
      "0.5773502691896235\n",
      "0.9999999992094688\n",
      "1.7320428394905787\n"
     ]
    }
   ],
   "source": [
    "tan_coeff = div_coeff(sin_coeff, cos_coeff)\n",
    "tan = series_sum(tan_coeff)\n",
    "\n",
    "seq_ref(tan(0.0), 30)\n",
    "seq_ref(tan(pi/6), 30)\n",
    "seq_ref(tan(pi/4), 30)\n",
    "seq_ref(tan(pi/3), 30)"
   ]
  },
  {
   "cell_type": "markdown",
   "metadata": {},
   "source": [
    "## 感想\n",
    "\n",
    "疲れた。"
   ]
  }
 ],
 "metadata": {
  "kernelspec": {
   "display_name": "Python 3",
   "language": "python",
   "name": "python3"
  },
  "language_info": {
   "codemirror_mode": {
    "name": "ipython",
    "version": 3
   },
   "file_extension": ".py",
   "mimetype": "text/x-python",
   "name": "python",
   "nbconvert_exporter": "python",
   "pygments_lexer": "ipython3",
   "version": "3.5.1"
  }
 },
 "nbformat": 4,
 "nbformat_minor": 2
}
