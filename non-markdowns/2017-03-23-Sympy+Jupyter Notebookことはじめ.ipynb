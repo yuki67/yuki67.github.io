{
 "cells": [
  {
   "cell_type": "markdown",
   "metadata": {},
   "source": [
    "# Sympy+Jupyter Notebookことはじめ\n",
    "\n",
    "## 初期設定"
   ]
  },
  {
   "cell_type": "code",
   "execution_count": 1,
   "metadata": {
    "collapsed": true
   },
   "outputs": [],
   "source": [
    "%matplotlib inline\n",
    "from sympy import *\n",
    "from IPython.display import display\n",
    "init_printing()"
   ]
  },
  {
   "cell_type": "markdown",
   "metadata": {},
   "source": [
    "## シンボルの定義"
   ]
  },
  {
   "cell_type": "code",
   "execution_count": 2,
   "metadata": {
    "collapsed": false
   },
   "outputs": [
    {
     "data": {
      "image/png": "[encoded data removed]",
      "text/latex": [
       "$$x$$"
      ],
      "text/plain": [
       "x"
      ]
     },
     "metadata": {},
     "output_type": "display_data"
    },
    {
     "data": {
      "image/png": "[encoded data removed]",
      "text/latex": [
       "$$y$$"
      ],
      "text/plain": [
       "y"
      ]
     },
     "metadata": {},
     "output_type": "display_data"
    }
   ],
   "source": [
    "x = Symbol(\"x\")\n",
    "y = Symbol(\"y\")       # これでもいいけど...\n",
    "x, y = symbols(\"x y\") # こっちのほうが楽なのでこっちでいいと思う\n",
    "\n",
    "display(x)\n",
    "display(y)"
   ]
  },
  {
   "cell_type": "markdown",
   "metadata": {},
   "source": [
    "## 式の定義"
   ]
  },
  {
   "cell_type": "code",
   "execution_count": 3,
   "metadata": {
    "collapsed": false
   },
   "outputs": [
    {
     "data": {
      "image/png": "[encoded data removed]",
      "text/latex": [
       "$$\\left(x + y\\right)^{5}$$"
      ],
      "text/plain": [
       "       5\n",
       "(x + y) "
      ]
     },
     "metadata": {},
     "output_type": "display_data"
    },
    {
     "data": {
      "image/png": "[encoded data removed]",
      "text/latex": [
       "$$x y \\left(x + y\\right)^{5}$$"
      ],
      "text/plain": [
       "           5\n",
       "x⋅y⋅(x + y) "
      ]
     },
     "metadata": {},
     "output_type": "display_data"
    }
   ],
   "source": [
    "expr = (x + y) ** 5\n",
    "\n",
    "# display()を使うとnotebookを通じて出力できる\n",
    "display(expr)\n",
    "display(x * expr * y) # 変数の並び順は簡略化されるらしい"
   ]
  },
  {
   "cell_type": "markdown",
   "metadata": {},
   "source": [
    "## 式の展開/因数分解"
   ]
  },
  {
   "cell_type": "code",
   "execution_count": 4,
   "metadata": {
    "collapsed": false
   },
   "outputs": [
    {
     "data": {
      "image/png": "[encoded data removed]",
      "text/latex": [
       "$$x^{5} + 5 x^{4} y + 10 x^{3} y^{2} + 10 x^{2} y^{3} + 5 x y^{4} + y^{5}$$"
      ],
      "text/plain": [
       " 5      4         3  2       2  3        4    5\n",
       "x  + 5⋅x ⋅y + 10⋅x ⋅y  + 10⋅x ⋅y  + 5⋅x⋅y  + y "
      ]
     },
     "metadata": {},
     "output_type": "display_data"
    },
    {
     "data": {
      "image/png": "[encoded data removed]",
      "text/latex": [
       "$$\\left(x + y\\right)^{3}$$"
      ],
      "text/plain": [
       "       3\n",
       "(x + y) "
      ]
     },
     "metadata": {},
     "output_type": "display_data"
    }
   ],
   "source": [
    "expr = (x + y) ** 5\n",
    "\n",
    "display(expr.expand())                                 # expand()で式を展開できる\n",
    "display((x**3 + 3*x**2*y + 3*x*y**2 + y**3).factor()) # factor()はexpand()の逆"
   ]
  },
  {
   "cell_type": "markdown",
   "metadata": {},
   "source": [
    "## 式の比較"
   ]
  },
  {
   "cell_type": "code",
   "execution_count": 5,
   "metadata": {
    "collapsed": false
   },
   "outputs": [
    {
     "data": {
      "image/png": "[encoded data removed]",
      "text/latex": [
       "$$\\left(x + y\\right)^{2}$$"
      ],
      "text/plain": [
       "       2\n",
       "(x + y) "
      ]
     },
     "metadata": {},
     "output_type": "display_data"
    },
    {
     "data": {
      "image/png": "[encoded data removed]",
      "text/latex": [
       "$$x^{2} + 2 x y + y^{2}$$"
      ],
      "text/plain": [
       " 2            2\n",
       "x  + 2⋅x⋅y + y "
      ]
     },
     "metadata": {},
     "output_type": "display_data"
    }
   ],
   "source": [
    "expr = (x + y) ** 2\n",
    "expanded = expand(expr)\n",
    "display(expr)\n",
    "display(expanded)"
   ]
  },
  {
   "cell_type": "code",
   "execution_count": 6,
   "metadata": {
    "collapsed": false
   },
   "outputs": [
    {
     "data": {
      "text/plain": [
       "False"
      ]
     },
     "metadata": {},
     "output_type": "display_data"
    },
    {
     "data": {
      "image/png": "[encoded data removed]",
      "text/latex": [
       "$$\\left(x + y\\right)^{2} = x^{2} + 2 x y + y^{2}$$"
      ],
      "text/plain": [
       "       2    2            2\n",
       "(x + y)  = x  + 2⋅x⋅y + y "
      ]
     },
     "metadata": {},
     "output_type": "display_data"
    },
    {
     "data": {
      "image/png": "[encoded data removed]",
      "text/latex": [
       "$$\\mathrm{True}$$"
      ],
      "text/plain": [
       "True"
      ]
     },
     "metadata": {},
     "output_type": "display_data"
    }
   ],
   "source": [
    "display(expr == expanded)              # この比較は代数的な比較ではない\n",
    "display(Eq(expr, expanded))            # Eq()を使えば代数的な比較を作れる\n",
    "display(Eq(expr, expanded).simplify()) # さらにSimplify()で恒等的に成り立つかどうかをチェックできる"
   ]
  },
  {
   "cell_type": "code",
   "execution_count": 7,
   "metadata": {
    "collapsed": false
   },
   "outputs": [
    {
     "data": {
      "text/plain": [
       "True"
      ]
     },
     "metadata": {},
     "output_type": "display_data"
    }
   ],
   "source": [
    "display(expr.equals(expanded))         # equals()はランダムな点でテストをして等しいかどうかを判定するらしい"
   ]
  },
  {
   "cell_type": "markdown",
   "metadata": {},
   "source": [
    "## 極限/微分/積分"
   ]
  },
  {
   "cell_type": "code",
   "execution_count": 8,
   "metadata": {
    "collapsed": false
   },
   "outputs": [
    {
     "data": {
      "image/png": "[encoded data removed]",
      "text/latex": [
       "$$\\lim_{x \\to 0^+}\\left(\\frac{1}{x} \\sin{\\left (x \\right )}\\right) = 1$$"
      ],
      "text/plain": [
       "     sin(x)    \n",
       " lim ────── = 1\n",
       "x─→0⁺  x       "
      ]
     },
     "metadata": {},
     "output_type": "display_data"
    },
    {
     "data": {
      "image/png": "[encoded data removed]",
      "text/latex": [
       "$$\\lim_{x \\to 0^-}\\left(\\frac{1}{x} \\sin{\\left (x \\right )}\\right) = 1$$"
      ],
      "text/plain": [
       "     sin(x)    \n",
       " lim ────── = 1\n",
       "x─→0⁻  x       "
      ]
     },
     "metadata": {},
     "output_type": "display_data"
    }
   ],
   "source": [
    "expr = sin(x)/x\n",
    "display(Eq(Limit(expr, x, 0), limit(expr, x, 0)))          # 極限をその場で計算しないならDerivativeを、するならdiffを使う(以下同様に2種類の関数がある)\n",
    "display(Eq(Limit(expr, x, 0, dir=\"-\"), limit(expr, x, 0))) # 極限の方向は片方しか指定できないみたい"
   ]
  },
  {
   "cell_type": "code",
   "execution_count": 9,
   "metadata": {
    "collapsed": false
   },
   "outputs": [
    {
     "data": {
      "image/png": "[encoded data removed]",
      "text/latex": [
       "$$\\frac{d}{d x} e^{\\sin{\\left (x \\right )}} = e^{\\sin{\\left (x \\right )}} \\cos{\\left (x \\right )}$$"
      ],
      "text/plain": [
       "d ⎛ sin(x)⎞    sin(x)       \n",
       "──⎝ℯ      ⎠ = ℯ      ⋅cos(x)\n",
       "dx                          "
      ]
     },
     "execution_count": 9,
     "metadata": {},
     "output_type": "execute_result"
    }
   ],
   "source": [
    "expr = exp(sin(x))\n",
    "Eq(Derivative(expr), diff(expr)) "
   ]
  },
  {
   "cell_type": "code",
   "execution_count": 10,
   "metadata": {
    "collapsed": false
   },
   "outputs": [
    {
     "data": {
      "image/png": "[encoded data removed]",
      "text/latex": [
       "$$\\int x \\left(e^{x} \\sin{\\left (x \\right )} + e^{x} \\cos{\\left (x \\right )}\\right)\\, dx = x e^{x} \\sin{\\left (x \\right )} - \\frac{e^{x}}{2} \\sin{\\left (x \\right )} + \\frac{e^{x}}{2} \\cos{\\left (x \\right )}$$"
      ],
      "text/plain": [
       "⌠                                               x           x       \n",
       "⎮   ⎛ x           x       ⎞         x          ℯ ⋅sin(x)   ℯ ⋅cos(x)\n",
       "⎮ x⋅⎝ℯ ⋅sin(x) + ℯ ⋅cos(x)⎠ dx = x⋅ℯ ⋅sin(x) - ───────── + ─────────\n",
       "⌡                                                  2           2    "
      ]
     },
     "execution_count": 10,
     "metadata": {},
     "output_type": "execute_result"
    }
   ],
   "source": [
    "expr = x * (exp(x)*sin(x) + exp(x)*cos(x))\n",
    "Eq(Integral(expr), integrate(expr))"
   ]
  },
  {
   "cell_type": "code",
   "execution_count": 11,
   "metadata": {
    "collapsed": false
   },
   "outputs": [
    {
     "data": {
      "image/png": "[encoded data removed]",
      "text/latex": [
       "$$\\int_{-\\infty}^{\\infty} e^{- x^{2}}\\, dx = \\sqrt{\\pi}$$"
      ],
      "text/plain": [
       "∞              \n",
       "⌠              \n",
       "⎮     2        \n",
       "⎮   -x         \n",
       "⎮  ℯ    dx = √π\n",
       "⌡              \n",
       "-∞             "
      ]
     },
     "execution_count": 11,
     "metadata": {},
     "output_type": "execute_result"
    }
   ],
   "source": [
    "expr = exp(-x**2)\n",
    "Eq(Integral(expr, (x, -oo, oo)), integrate(expr, (x, -oo, oo)))"
   ]
  }
 ],
 "metadata": {
  "kernelspec": {
   "display_name": "Python 3",
   "language": "python",
   "name": "python3"
  },
  "language_info": {
   "codemirror_mode": {
    "name": "ipython",
    "version": 3
   },
   "file_extension": ".py",
   "mimetype": "text/x-python",
   "name": "python",
   "nbconvert_exporter": "python",
   "pygments_lexer": "ipython3",
   "version": "3.5.1"
  }
 },
 "nbformat": 4,
 "nbformat_minor": 2
}
