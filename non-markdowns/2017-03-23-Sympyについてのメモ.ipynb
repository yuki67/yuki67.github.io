{
 "cells": [
  {
   "cell_type": "markdown",
   "metadata": {
    "deletable": true,
    "editable": true
   },
   "source": [
    "# Sympy+Jupyter Notebookことはじめ\n",
    "\n",
    "## 初期設定"
   ]
  },
  {
   "cell_type": "code",
   "execution_count": 1,
   "metadata": {
    "collapsed": true,
    "deletable": true,
    "editable": true
   },
   "outputs": [],
   "source": [
    "%matplotlib inline\n",
    "from sympy import *\n",
    "from IPython.display import display\n",
    "init_printing()"
   ]
  },
  {
   "cell_type": "markdown",
   "metadata": {
    "deletable": true,
    "editable": true
   },
   "source": [
    "## シンボルの定義"
   ]
  },
  {
   "cell_type": "code",
   "execution_count": 2,
   "metadata": {
    "collapsed": false,
    "deletable": true,
    "editable": true
   },
   "outputs": [
    {
     "data": {
      "image/png": "[encoded data removed]",
      "text/latex": [
       "$$x$$"
      ],
      "text/plain": [
       "x"
      ]
     },
     "metadata": {},
     "output_type": "display_data"
    },
    {
     "data": {
      "image/png": "[encoded data removed]",
      "text/latex": [
       "$$y$$"
      ],
      "text/plain": [
       "y"
      ]
     },
     "metadata": {},
     "output_type": "display_data"
    },
    {
     "data": {
      "image/png": "[encoded data removed]",
      "text/latex": [
       "$$z$$"
      ],
      "text/plain": [
       "z"
      ]
     },
     "metadata": {},
     "output_type": "display_data"
    }
   ],
   "source": [
    "x = Symbol(\"x\")\n",
    "y = Symbol(\"y\")       # これでもいいけど...\n",
    "x, y, z = symbols(\"x y z\") # こっちのほうが楽なのでこっちでいいと思う\n",
    "f, g = symbols('f g', cls=Function)\n",
    "\n",
    "display(x)\n",
    "display(y)\n",
    "display(z)"
   ]
  },
  {
   "cell_type": "markdown",
   "metadata": {
    "deletable": true,
    "editable": true
   },
   "source": [
    "## 式の定義"
   ]
  },
  {
   "cell_type": "code",
   "execution_count": 3,
   "metadata": {
    "collapsed": false,
    "deletable": true,
    "editable": true
   },
   "outputs": [
    {
     "data": {
      "image/png": "[encoded data removed]",
      "text/latex": [
       "$$\\left(x + y\\right)^{5}$$"
      ],
      "text/plain": [
       "       5\n",
       "(x + y) "
      ]
     },
     "metadata": {},
     "output_type": "display_data"
    },
    {
     "data": {
      "image/png": "[encoded data removed]",
      "text/latex": [
       "$$x y \\left(x + y\\right)^{5}$$"
      ],
      "text/plain": [
       "           5\n",
       "x⋅y⋅(x + y) "
      ]
     },
     "metadata": {},
     "output_type": "display_data"
    }
   ],
   "source": [
    "expr = (x + y) ** 5\n",
    "\n",
    "# display()を使うとnotebookを通じて出力できる\n",
    "display(expr)\n",
    "display(x * expr * y) # 変数の並び順は簡略化されるらしい"
   ]
  },
  {
   "cell_type": "markdown",
   "metadata": {
    "deletable": true,
    "editable": true
   },
   "source": [
    "## 式の展開/因数分解"
   ]
  },
  {
   "cell_type": "code",
   "execution_count": 4,
   "metadata": {
    "collapsed": false,
    "deletable": true,
    "editable": true
   },
   "outputs": [
    {
     "data": {
      "image/png": "[encoded data removed]",
      "text/latex": [
       "$$x^{5} + 5 x^{4} y + 10 x^{3} y^{2} + 10 x^{2} y^{3} + 5 x y^{4} + y^{5}$$"
      ],
      "text/plain": [
       " 5      4         3  2       2  3        4    5\n",
       "x  + 5⋅x ⋅y + 10⋅x ⋅y  + 10⋅x ⋅y  + 5⋅x⋅y  + y "
      ]
     },
     "metadata": {},
     "output_type": "display_data"
    },
    {
     "data": {
      "image/png": "[encoded data removed]",
      "text/latex": [
       "$$\\left(x + y\\right)^{3}$$"
      ],
      "text/plain": [
       "       3\n",
       "(x + y) "
      ]
     },
     "metadata": {},
     "output_type": "display_data"
    }
   ],
   "source": [
    "expr = (x + y) ** 5\n",
    "\n",
    "display(expr.expand())                                 # expand()で式を展開できる\n",
    "display((x**3 + 3*x**2*y + 3*x*y**2 + y**3).factor()) # factor()はexpand()の逆"
   ]
  },
  {
   "cell_type": "markdown",
   "metadata": {
    "deletable": true,
    "editable": true
   },
   "source": [
    "## 式の比較"
   ]
  },
  {
   "cell_type": "code",
   "execution_count": 5,
   "metadata": {
    "collapsed": false,
    "deletable": true,
    "editable": true
   },
   "outputs": [
    {
     "data": {
      "image/png": "[encoded data removed]",
      "text/latex": [
       "$$\\left(x + y\\right)^{2}$$"
      ],
      "text/plain": [
       "       2\n",
       "(x + y) "
      ]
     },
     "metadata": {},
     "output_type": "display_data"
    },
    {
     "data": {
      "image/png": "[encoded data removed]",
      "text/latex": [
       "$$x^{2} + 2 x y + y^{2}$$"
      ],
      "text/plain": [
       " 2            2\n",
       "x  + 2⋅x⋅y + y "
      ]
     },
     "metadata": {},
     "output_type": "display_data"
    }
   ],
   "source": [
    "expr = (x + y) ** 2\n",
    "expanded = expand(expr)\n",
    "display(expr)\n",
    "display(expanded)"
   ]
  },
  {
   "cell_type": "code",
   "execution_count": 6,
   "metadata": {
    "collapsed": false,
    "deletable": true,
    "editable": true
   },
   "outputs": [
    {
     "data": {
      "text/plain": [
       "False"
      ]
     },
     "metadata": {},
     "output_type": "display_data"
    },
    {
     "data": {
      "image/png": "[encoded data removed]",
      "text/latex": [
       "$$\\left(x + y\\right)^{2} = x^{2} + 2 x y + y^{2}$$"
      ],
      "text/plain": [
       "       2    2            2\n",
       "(x + y)  = x  + 2⋅x⋅y + y "
      ]
     },
     "metadata": {},
     "output_type": "display_data"
    },
    {
     "data": {
      "image/png": "[encoded data removed]",
      "text/latex": [
       "$$\\mathrm{True}$$"
      ],
      "text/plain": [
       "True"
      ]
     },
     "metadata": {},
     "output_type": "display_data"
    }
   ],
   "source": [
    "display(expr == expanded)              # この比較は代数的な比較ではない\n",
    "display(Eq(expr, expanded))            # Eq()を使えば代数的な比較を作れる\n",
    "display(Eq(expr, expanded).simplify()) # さらにSimplify()で恒等的に成り立つかどうかをチェックできる"
   ]
  },
  {
   "cell_type": "code",
   "execution_count": 7,
   "metadata": {
    "collapsed": false,
    "deletable": true,
    "editable": true
   },
   "outputs": [
    {
     "data": {
      "text/plain": [
       "True"
      ]
     },
     "execution_count": 7,
     "metadata": {},
     "output_type": "execute_result"
    }
   ],
   "source": [
    "expr.equals(expanded) # equals()はランダムな点でテストをして等しいかどうかを判定するらしい"
   ]
  },
  {
   "cell_type": "markdown",
   "metadata": {
    "deletable": true,
    "editable": true
   },
   "source": [
    "## 代入"
   ]
  },
  {
   "cell_type": "code",
   "execution_count": 8,
   "metadata": {
    "collapsed": false,
    "deletable": true,
    "editable": true
   },
   "outputs": [
    {
     "data": {
      "image/png": "[encoded data removed]",
      "text/latex": [
       "$$\\frac{\\sqrt{3}}{2} + 1$$"
      ],
      "text/plain": [
       "√3    \n",
       "── + 1\n",
       "2     "
      ]
     },
     "execution_count": 8,
     "metadata": {},
     "output_type": "execute_result"
    }
   ],
   "source": [
    "expr = sin(x) + 1\n",
    "expr.subs(x, pi / 3)"
   ]
  },
  {
   "cell_type": "code",
   "execution_count": 9,
   "metadata": {
    "collapsed": false,
    "deletable": true,
    "editable": true
   },
   "outputs": [
    {
     "data": {
      "image/png": "[encoded data removed]",
      "text/latex": [
       "$$3 x^{2} + 9 x + \\left(x^{2} + 3 x + 4\\right)^{2} + 16$$"
      ],
      "text/plain": [
       "                           2     \n",
       "   2         ⎛ 2          ⎞      \n",
       "3⋅x  + 9⋅x + ⎝x  + 3⋅x + 4⎠  + 16"
      ]
     },
     "execution_count": 9,
     "metadata": {},
     "output_type": "execute_result"
    }
   ],
   "source": [
    "expr = x**2 + 3*x + 4\n",
    "expr.subs(x, expr)    # 式の代入も可能"
   ]
  },
  {
   "cell_type": "code",
   "execution_count": 10,
   "metadata": {
    "collapsed": false,
    "deletable": true,
    "editable": true,
    "scrolled": true
   },
   "outputs": [
    {
     "data": {
      "image/png": "[encoded data removed]",
      "text/latex": [
       "$$x^{3} + 5 x y + x z + 5 y^{2} + y z^{2} + z^{2}$$"
      ],
      "text/plain": [
       " 3                    2      2    2\n",
       "x  + 5⋅x⋅y + x⋅z + 5⋅y  + y⋅z  + z "
      ]
     },
     "metadata": {},
     "output_type": "display_data"
    },
    {
     "data": {
      "image/png": "[encoded data removed]",
      "text/latex": [
       "$$79$$"
      ],
      "text/plain": [
       "79"
      ]
     },
     "metadata": {},
     "output_type": "display_data"
    },
    {
     "data": {
      "image/png": "[encoded data removed]",
      "text/latex": [
       "$$2 x^{3} + 12 x^{2}$$"
      ],
      "text/plain": [
       "   3       2\n",
       "2⋅x  + 12⋅x "
      ]
     },
     "metadata": {},
     "output_type": "display_data"
    }
   ],
   "source": [
    "expr = x**3 + 5*x*y + x*z + 5*y**2 + y*z**2 + z**2\n",
    "display(expr)\n",
    "display(expr.subs([(x, 1), [y, 3], [z, 2]]))\n",
    "display(expr.subs([(x, x), [y, x], [z, x]]))"
   ]
  },
  {
   "cell_type": "markdown",
   "metadata": {
    "deletable": true,
    "editable": true
   },
   "source": [
    "## 無理数の計算"
   ]
  },
  {
   "cell_type": "code",
   "execution_count": 11,
   "metadata": {
    "collapsed": false,
    "deletable": true,
    "editable": true
   },
   "outputs": [
    {
     "data": {
      "image/png": "[encoded data removed]",
      "text/latex": [
       "$$3.14159265358979323846264338328$$"
      ],
      "text/plain": [
       "3.14159265358979323846264338328"
      ]
     },
     "execution_count": 11,
     "metadata": {},
     "output_type": "execute_result"
    }
   ],
   "source": [
    "pi.evalf(30)"
   ]
  },
  {
   "cell_type": "code",
   "execution_count": 12,
   "metadata": {
    "collapsed": false,
    "deletable": true,
    "editable": true
   },
   "outputs": [
    {
     "data": {
      "image/png": "[encoded data removed]",
      "text/latex": [
       "$$-4.0 \\cdot 10^{-124}$$"
      ],
      "text/plain": [
       "-0.e-124"
      ]
     },
     "metadata": {},
     "output_type": "display_data"
    },
    {
     "data": {
      "image/png": "[encoded data removed]",
      "text/latex": [
       "$$0$$"
      ],
      "text/plain": [
       "0"
      ]
     },
     "metadata": {},
     "output_type": "display_data"
    }
   ],
   "source": [
    "expr = sin(1)**2 + cos(1)**2\n",
    "display((expr - 1).evalf())\n",
    "display((expr - 1).evalf(chop = True))"
   ]
  },
  {
   "cell_type": "markdown",
   "metadata": {
    "deletable": true,
    "editable": true
   },
   "source": [
    "## numpy関数の利用"
   ]
  },
  {
   "cell_type": "code",
   "execution_count": 13,
   "metadata": {
    "collapsed": false,
    "deletable": true,
    "editable": true,
    "scrolled": false
   },
   "outputs": [
    {
     "data": {
      "image/png": "[encoded data removed]",
      "text/latex": [
       "$$\\sin^{2}{\\left (x \\right )} + \\cos^{3}{\\left (x \\right )}$$"
      ],
      "text/plain": [
       "   2         3   \n",
       "sin (x) + cos (x)"
      ]
     },
     "metadata": {},
     "output_type": "display_data"
    },
    {
     "data": {
      "text/plain": [
       "array([ 1.        ,  0.86580202,  0.75475425, -0.95036208,  0.29348079,\n",
       "        0.94236043,  0.96327991,  0.86012577,  0.97574947, -0.58654075,\n",
       "       -0.29478182,  0.9999805 ,  0.88881004,  0.92378616,  0.98385952,\n",
       "       -0.01556116, -0.79539238,  0.90345118,  0.85189192,  0.98895835,\n",
       "        0.90142733,  0.53566986, -0.99980414,  0.5648118 ,  0.89639378,\n",
       "        0.99135691,  0.85223411,  0.88972231, -0.81857033,  0.02180437,\n",
       "        0.97987667,  0.92866036,  0.88463129,  0.99982139, -0.33110279,\n",
       "       -0.55466852,  0.98152993,  0.86256579,  0.95901972,  0.94785945,\n",
       "        0.25853532, -0.93733553,  0.7760188 ,  0.86290782,  0.99984336,\n",
       "        0.86900634,  0.73250099, -0.96191188,  0.32789382,  0.93680443,\n",
       "        0.96737779,  0.85798037,  0.96910399, -0.61757906, -0.25811662,\n",
       "        0.99952124,  0.89314651,  0.91891613,  0.98748892, -0.0530218 ,\n",
       "       -0.77101524,  0.91618973,  0.85189896,  0.98629159,  0.90661841,\n",
       "        0.50571095, -0.99823778,  0.59310782,  0.89154121,  0.99347747,\n",
       "        0.85292682,  0.87499481, -0.84050791,  0.05901876,  0.97557656,\n",
       "        0.93351789,  0.88062925,  0.99901083, -0.36702009, -0.5220171 ,\n",
       "        0.98646955,  0.8652878 ,  0.95461493,  0.95326866,  0.22310345,\n",
       "       -0.92285576,  0.79628569,  0.86033431,  0.99937407,  0.87250858,\n",
       "        0.70927031, -0.97196403,  0.3617301 ,  0.93122345,  0.97129634,\n",
       "        0.85614111,  0.96157091, -0.64772986, -0.22116672,  0.99847744])"
      ]
     },
     "execution_count": 13,
     "metadata": {},
     "output_type": "execute_result"
    }
   ],
   "source": [
    "import numpy \n",
    "a = numpy.arange(100) \n",
    "expr = sin(x)**2 + cos(x)**3\n",
    "display(expr)\n",
    "f = lambdify(x, expr, \"numpy\") # numpyを使わないと遅い\n",
    "f(a)"
   ]
  },
  {
   "cell_type": "markdown",
   "metadata": {
    "deletable": true,
    "editable": true
   },
   "source": [
    "## 極限/微分/積分"
   ]
  },
  {
   "cell_type": "code",
   "execution_count": 14,
   "metadata": {
    "collapsed": false,
    "deletable": true,
    "editable": true
   },
   "outputs": [
    {
     "data": {
      "image/png": "[encoded data removed]",
      "text/latex": [
       "$$\\lim_{x \\to 0^+}\\left(\\frac{1}{x} \\sin{\\left (x \\right )}\\right) = 1$$"
      ],
      "text/plain": [
       "     sin(x)    \n",
       " lim ────── = 1\n",
       "x─→0⁺  x       "
      ]
     },
     "metadata": {},
     "output_type": "display_data"
    },
    {
     "data": {
      "image/png": "[encoded data removed]",
      "text/latex": [
       "$$\\lim_{x \\to 0^-}\\left(\\frac{1}{x} \\sin{\\left (x \\right )}\\right) = 1$$"
      ],
      "text/plain": [
       "     sin(x)    \n",
       " lim ────── = 1\n",
       "x─→0⁻  x       "
      ]
     },
     "metadata": {},
     "output_type": "display_data"
    }
   ],
   "source": [
    "expr = sin(x)/x\n",
    "display(Eq(Limit(expr, x, 0), limit(expr, x, 0)))                   # 極限をその場で計算しないならLimitを、するならlimitを使う(以下同様に2種類の関数がある)\n",
    "display(Eq(Limit(expr, x, 0, dir=\"-\"), limit(expr, x, 0, dir=\"-\"))) # 極限の方向は片方しか指定できないみたい"
   ]
  },
  {
   "cell_type": "code",
   "execution_count": 15,
   "metadata": {
    "collapsed": false,
    "deletable": true,
    "editable": true
   },
   "outputs": [
    {
     "data": {
      "image/png": "[encoded data removed]",
      "text/latex": [
       "$$\\frac{d}{d x} e^{\\sin{\\left (x \\right )}} = e^{\\sin{\\left (x \\right )}} \\cos{\\left (x \\right )}$$"
      ],
      "text/plain": [
       "d ⎛ sin(x)⎞    sin(x)       \n",
       "──⎝ℯ      ⎠ = ℯ      ⋅cos(x)\n",
       "dx                          "
      ]
     },
     "execution_count": 15,
     "metadata": {},
     "output_type": "execute_result"
    }
   ],
   "source": [
    "expr = exp(sin(x))\n",
    "Eq(Derivative(expr), diff(expr)) "
   ]
  },
  {
   "cell_type": "code",
   "execution_count": 16,
   "metadata": {
    "collapsed": false,
    "deletable": true,
    "editable": true
   },
   "outputs": [
    {
     "data": {
      "image/png": "[encoded data removed]",
      "text/latex": [
       "$$\\int x \\left(e^{x} \\sin{\\left (x \\right )} + e^{x} \\cos{\\left (x \\right )}\\right)\\, dx = x e^{x} \\sin{\\left (x \\right )} - \\frac{e^{x}}{2} \\sin{\\left (x \\right )} + \\frac{e^{x}}{2} \\cos{\\left (x \\right )}$$"
      ],
      "text/plain": [
       "⌠                                               x           x       \n",
       "⎮   ⎛ x           x       ⎞         x          ℯ ⋅sin(x)   ℯ ⋅cos(x)\n",
       "⎮ x⋅⎝ℯ ⋅sin(x) + ℯ ⋅cos(x)⎠ dx = x⋅ℯ ⋅sin(x) - ───────── + ─────────\n",
       "⌡                                                  2           2    "
      ]
     },
     "execution_count": 16,
     "metadata": {},
     "output_type": "execute_result"
    }
   ],
   "source": [
    "expr = x * (exp(x)*sin(x) + exp(x)*cos(x))\n",
    "Eq(Integral(expr), integrate(expr))"
   ]
  },
  {
   "cell_type": "code",
   "execution_count": 17,
   "metadata": {
    "collapsed": false,
    "deletable": true,
    "editable": true,
    "scrolled": false
   },
   "outputs": [
    {
     "data": {
      "image/png": "[encoded data removed]",
      "text/latex": [
       "$$\\int_{-\\infty}^{\\infty} e^{- x^{2}}\\, dx = \\sqrt{\\pi}$$"
      ],
      "text/plain": [
       "∞              \n",
       "⌠              \n",
       "⎮     2        \n",
       "⎮   -x         \n",
       "⎮  ℯ    dx = √π\n",
       "⌡              \n",
       "-∞             "
      ]
     },
     "execution_count": 17,
     "metadata": {},
     "output_type": "execute_result"
    }
   ],
   "source": [
    "expr = exp(-x**2)\n",
    "Eq(Integral(expr, (x, -oo, oo)), integrate(expr, (x, -oo, oo)))"
   ]
  },
  {
   "cell_type": "markdown",
   "metadata": {
    "deletable": true,
    "editable": true
   },
   "source": [
    "## 級数"
   ]
  },
  {
   "cell_type": "code",
   "execution_count": 18,
   "metadata": {
    "collapsed": false,
    "deletable": true,
    "editable": true
   },
   "outputs": [
    {
     "data": {
      "image/png": "[encoded data removed]",
      "text/latex": [
       "$$e^{x} = 1 + x + \\frac{x^{2}}{2} + \\frac{x^{3}}{6} + \\frac{x^{4}}{24} + \\frac{x^{5}}{120} + \\frac{x^{6}}{720} + \\frac{x^{7}}{5040} + \\frac{x^{8}}{40320} + \\frac{x^{9}}{362880} + \\mathcal{O}\\left(x^{10}\\right)$$"
      ],
      "text/plain": [
       "              2    3    4     5     6     7       8       9           \n",
       " x           x    x    x     x     x     x       x       x       ⎛ 10⎞\n",
       "ℯ  = 1 + x + ── + ── + ── + ─── + ─── + ──── + ───── + ────── + O⎝x  ⎠\n",
       "             2    6    24   120   720   5040   40320   362880         "
      ]
     },
     "execution_count": 18,
     "metadata": {},
     "output_type": "execute_result"
    }
   ],
   "source": [
    "expr = exp(x)\n",
    "Eq(expr, expr.series(x=x, x0=0, n=10))"
   ]
  },
  {
   "cell_type": "code",
   "execution_count": 19,
   "metadata": {
    "collapsed": false,
    "deletable": true,
    "editable": true
   },
   "outputs": [
    {
     "data": {
      "image/png": "[encoded data removed]",
      "text/latex": [
       "$$e^{\\sin^{2}{\\left (x \\right )}} = 1 + x^{2} + \\frac{x^{4}}{6} - \\frac{11 x^{6}}{90} - \\frac{71 x^{8}}{2520} + \\mathcal{O}\\left(x^{10}\\right)$$"
      ],
      "text/plain": [
       "    2                4       6       8         \n",
       " sin (x)        2   x    11⋅x    71⋅x     ⎛ 10⎞\n",
       "ℯ        = 1 + x  + ── - ───── - ───── + O⎝x  ⎠\n",
       "                    6      90     2520         "
      ]
     },
     "execution_count": 19,
     "metadata": {},
     "output_type": "execute_result"
    }
   ],
   "source": [
    "expr = exp(sin(x)**2)\n",
    "Eq(expr, expr.series(x=x, x0=0, n=10))"
   ]
  }
 ],
 "metadata": {
  "kernelspec": {
   "display_name": "Python 3",
   "language": "python",
   "name": "python3"
  },
  "language_info": {
   "codemirror_mode": {
    "name": "ipython",
    "version": 3
   },
   "file_extension": ".py",
   "mimetype": "text/x-python",
   "name": "python",
   "nbconvert_exporter": "python",
   "pygments_lexer": "ipython3",
   "version": "3.5.1"
  }
 },
 "nbformat": 4,
 "nbformat_minor": 2
}
