{
 "cells": [
  {
   "cell_type": "markdown",
   "metadata": {
    "deletable": true,
    "editable": true
   },
   "source": [
    "# Sympyで方程式を解いてみる\n",
    "\n",
    "Sympyがまだ面白そうだったのでもっと色々やりました。\n",
    "\n",
    "とりあえず前に受けた微分方程式の講義ノートを引っ張り出してそこに書いてある練習問題を解いていきました。\n",
    "\n",
    "微分方程式はすぐ解ける形もあればあれこれ手を焼いてやらないと解けないものもあるようです。すぐに解けないときは小手先の変更(hintを変えるとか)だけではうまくいかないことが多いので、さっさと地道な方法で解いたほうがいいと思います。\n",
    "\n",
    "この記事はjupyter notebookで書いたのをmarkdownに変換したものです。notebookは[ここ](https://github.com/yuki67/yuki67.github.io/blob/master/non-markdowns/2017-03-25-Sympyで方程式を解いてみる.ipynb)にあります。"
   ]
  },
  {
   "cell_type": "code",
   "execution_count": 1,
   "metadata": {
    "collapsed": false,
    "deletable": true,
    "editable": true
   },
   "outputs": [],
   "source": [
    "# 初期処理\n",
    "%matplotlib inline\n",
    "from sympy import *\n",
    "from sympy.plotting import plot\n",
    "from IPython.display import display\n",
    "from  sympy.solvers.ode import *\n",
    "init_printing()\n",
    "\n",
    "# デフォルトだと微分方程式を解いたときに誤差関数(error function)を使うのでそれを書き直す関数\n",
    "def expand_erfs(expr):\n",
    "    \"\"\" 誤差関数を開く \"\"\"\n",
    "    return expr.replace(erf, lambda x: 2/sqrt(pi) * Integral(exp(-t**2), (t, 0, x)))\\\n",
    "               .replace(erfi, lambda x: 2/sqrt(pi) * Integral(exp(t**2), (t, 0, x))).simplify()\n",
    "\n",
    "# 積分定数を潰す関数constantsimp()は積分定数を引数として\n",
    "# 渡さなければいけないので、C1,C2,...をシンボルとして定義しなければいけない。\n",
    "# それだとめんどくさいので、積分定数でないシンボルを渡せばすむ関数があると便利。\n",
    "def constsimp(expr, variable):\n",
    "    \"\"\" variable以外の自由変数をconstantsimp()に渡す \"\"\"\n",
    "    return constantsimp(expr, [c for c in ans.free_symbols if c != variable])\n",
    "\n",
    "x = symbols(\"x\")\n",
    "a, b, c, t = symbols(\"a b c t\")\n",
    "y, f, g, P, Q, R = symbols('y f g P Q R', cls=Function)"
   ]
  },
  {
   "cell_type": "markdown",
   "metadata": {
    "deletable": true,
    "editable": true
   },
   "source": [
    "## 方程式"
   ]
  },
  {
   "cell_type": "code",
   "execution_count": 2,
   "metadata": {
    "collapsed": false,
    "deletable": true,
    "editable": true,
    "scrolled": true
   },
   "outputs": [
    {
     "data": {
      "image/png": "[encoded data removed]",
      "text/latex": [
       "$$x^{2} + 3 x - 4 = 0$$"
      ],
      "text/plain": [
       " 2              \n",
       "x  + 3⋅x - 4 = 0"
      ]
     },
     "metadata": {},
     "output_type": "display_data"
    },
    {
     "data": {
      "image/png": "[encoded data removed]",
      "text/latex": [
       "$$\\left\\{-4, 1\\right\\}$$"
      ],
      "text/plain": [
       "{-4, 1}"
      ]
     },
     "metadata": {},
     "output_type": "display_data"
    }
   ],
   "source": [
    "expr = Eq(x**2+3*x-4)\n",
    "display(expr, solveset(expr, x)) # solve()という関数もあるがsolveset()が推奨されている"
   ]
  },
  {
   "cell_type": "code",
   "execution_count": 3,
   "metadata": {
    "collapsed": false,
    "deletable": true,
    "editable": true,
    "scrolled": true
   },
   "outputs": [
    {
     "data": {
      "image/png": "[encoded data removed]",
      "text/latex": [
       "$$x^{3} + 3 x^{2} + 3 x - 4 = 0$$"
      ],
      "text/plain": [
       " 3      2              \n",
       "x  + 3⋅x  + 3⋅x - 4 = 0"
      ]
     },
     "metadata": {},
     "output_type": "display_data"
    },
    {
     "data": {
      "image/png": "[encoded data removed]",
      "text/latex": [
       "$$\\left\\{-1 + \\sqrt[3]{5}, -1 - \\frac{\\sqrt[3]{5}}{2} - \\frac{\\sqrt{3} i}{2} \\sqrt[3]{5}, -1 - \\frac{\\sqrt[3]{5}}{2} + \\frac{\\sqrt{3} i}{2} \\sqrt[3]{5}\\right\\}$$"
      ],
      "text/plain": [
       "⎧                 3 ___      3 ___         3 ___      3 ___  ⎫\n",
       "⎪     3 ___       ╲╱ 5    √3⋅╲╱ 5 ⋅ⅈ       ╲╱ 5    √3⋅╲╱ 5 ⋅ⅈ⎪\n",
       "⎨-1 + ╲╱ 5 , -1 - ───── - ──────────, -1 - ───── + ──────────⎬\n",
       "⎪                   2         2              2         2     ⎪\n",
       "⎩                                                            ⎭"
      ]
     },
     "metadata": {},
     "output_type": "display_data"
    }
   ],
   "source": [
    "expr = x**3+3*x**2+3*x-4\n",
    "display(Eq(expr), solveset(expr))"
   ]
  },
  {
   "cell_type": "code",
   "execution_count": 4,
   "metadata": {
    "collapsed": false,
    "deletable": true,
    "editable": true,
    "scrolled": true
   },
   "outputs": [
    {
     "data": {
      "image/png": "[encoded data removed]",
      "text/latex": [
       "$$\\left [ \\frac{1}{2 a} \\left(- b + \\sqrt{- 4 a c + b^{2}}\\right), \\quad - \\frac{1}{2 a} \\left(b + \\sqrt{- 4 a c + b^{2}}\\right)\\right ]$$"
      ],
      "text/plain": [
       "⎡        _____________   ⎛       _____________⎞ ⎤\n",
       "⎢       ╱           2    ⎜      ╱           2 ⎟ ⎥\n",
       "⎢-b + ╲╱  -4⋅a⋅c + b    -⎝b + ╲╱  -4⋅a⋅c + b  ⎠ ⎥\n",
       "⎢─────────────────────, ────────────────────────⎥\n",
       "⎣         2⋅a                     2⋅a           ⎦"
      ]
     },
     "execution_count": 4,
     "metadata": {},
     "output_type": "execute_result"
    }
   ],
   "source": [
    "a, b, c = symbols(\"a b c\")\n",
    "solve(a*x**2+b*x+c, x)"
   ]
  },
  {
   "cell_type": "code",
   "execution_count": 5,
   "metadata": {
    "collapsed": false,
    "deletable": true,
    "editable": true
   },
   "outputs": [
    {
     "data": {
      "image/png": "[encoded data removed]",
      "text/latex": [
       "$$\\left(-\\infty, 0\\right) \\cup \\left(0, \\infty\\right)$$"
      ],
      "text/plain": [
       "(-∞, 0) ∪ (0, ∞)"
      ]
     },
     "execution_count": 5,
     "metadata": {},
     "output_type": "execute_result"
    }
   ],
   "source": [
    "solveset(Gt(x**2, 0), domain=S.Reals)"
   ]
  },
  {
   "cell_type": "code",
   "execution_count": 6,
   "metadata": {
    "collapsed": false,
    "deletable": true,
    "editable": true
   },
   "outputs": [
    {
     "data": {
      "image/png": "[encoded data removed]",
      "text/latex": [
       "$$\\left\\{2 n \\pi + \\frac{2 \\pi}{3}\\; |\\; n \\in \\mathbb{Z}\\right\\} \\cup \\left\\{2 n \\pi + \\frac{\\pi}{3}\\; |\\; n \\in \\mathbb{Z}\\right\\}$$"
      ],
      "text/plain": [
       "⎧        2⋅π        ⎫   ⎧        π        ⎫\n",
       "⎨2⋅n⋅π + ─── | n ∊ ℤ⎬ ∪ ⎨2⋅n⋅π + ─ | n ∊ ℤ⎬\n",
       "⎩         3         ⎭   ⎩        3        ⎭"
      ]
     },
     "execution_count": 6,
     "metadata": {},
     "output_type": "execute_result"
    }
   ],
   "source": [
    "solveset(sin(x) - sqrt(3)/2, domain=S.Reals)"
   ]
  },
  {
   "cell_type": "markdown",
   "metadata": {
    "deletable": true,
    "editable": true
   },
   "source": [
    "## 微分方程式\n",
    "\n",
    "### 変数分離型"
   ]
  },
  {
   "cell_type": "code",
   "execution_count": 7,
   "metadata": {
    "collapsed": false,
    "deletable": true,
    "editable": true,
    "scrolled": false
   },
   "outputs": [
    {
     "data": {
      "image/png": "[encoded data removed]",
      "text/latex": [
       "$$\\frac{d}{d x} y{\\left (x \\right )} = g{\\left (x \\right )} g{\\left (y{\\left (x \\right )} \\right )}$$"
      ],
      "text/plain": [
       "d                      \n",
       "──(y(x)) = g(x)⋅g(y(x))\n",
       "dx                     "
      ]
     },
     "metadata": {},
     "output_type": "display_data"
    },
    {
     "data": {
      "image/png": "[encoded data removed]",
      "text/latex": [
       "$$\\int^{y{\\left (x \\right )}} \\frac{1}{g{\\left (y \\right )}}\\, dy = C_{1} + \\int g{\\left (x \\right )}\\, dx$$"
      ],
      "text/plain": [
       "y(x)                         \n",
       " ⌠                           \n",
       " ⎮    1             ⌠        \n",
       " ⎮   ──── dy = C₁ + ⎮ g(x) dx\n",
       " ⎮   g(y)           ⌡        \n",
       " ⌡                           \n",
       "                             "
      ]
     },
     "metadata": {},
     "output_type": "display_data"
    }
   ],
   "source": [
    "eq = Eq(Derivative(y(x)), g(x)*g(y(x)))\n",
    "display(eq, dsolve(eq, y(x)))"
   ]
  },
  {
   "cell_type": "markdown",
   "metadata": {
    "deletable": true,
    "editable": true
   },
   "source": [
    "#### 例題: ロジスティック方程式"
   ]
  },
  {
   "cell_type": "code",
   "execution_count": 8,
   "metadata": {
    "collapsed": false,
    "deletable": true,
    "editable": true,
    "scrolled": true
   },
   "outputs": [
    {
     "data": {
      "image/png": "[encoded data removed]",
      "text/latex": [
       "$$\\frac{d}{d t} N{\\left (t \\right )} = r \\left(1 - \\frac{1}{K} N{\\left (t \\right )}\\right) N{\\left (t \\right )}$$"
      ],
      "text/plain": [
       "d            ⎛    N(t)⎞     \n",
       "──(N(t)) = r⋅⎜1 - ────⎟⋅N(t)\n",
       "dt           ⎝     K  ⎠     "
      ]
     },
     "metadata": {},
     "output_type": "display_data"
    },
    {
     "data": {
      "image/png": "[encoded data removed]",
      "text/latex": [
       "$$N{\\left (t \\right )} = \\frac{K e^{C_{1} K + r t}}{e^{C_{1} K + r t} - 1}$$"
      ],
      "text/plain": [
       "           C₁⋅K + r⋅t \n",
       "        K⋅ℯ           \n",
       "N(t) = ───────────────\n",
       "        C₁⋅K + r⋅t    \n",
       "       ℯ           - 1"
      ]
     },
     "metadata": {},
     "output_type": "display_data"
    },
    {
     "data": {
      "image/png": "[encoded data removed]",
      "text/plain": [
       "<matplotlib.figure.Figure at 0x23613bc2ba8>"
      ]
     },
     "metadata": {},
     "output_type": "display_data"
    },
    {
     "data": {
      "text/plain": [
       "<sympy.plotting.plot.Plot at 0x23613929b70>"
      ]
     },
     "execution_count": 8,
     "metadata": {},
     "output_type": "execute_result"
    }
   ],
   "source": [
    "# シンボルを定義\n",
    "t, r, K = symbols(\"t r K\")\n",
    "N = symbols(\"N\", cls=Function)\n",
    "# ロジスティック方程式を定義\n",
    "eq = Eq(Derivative(N(t)), r*(1-(N(t)/K))*N(t))\n",
    "display(eq)\n",
    "# 一般解を求める\n",
    "ans = dsolve(eq)\n",
    "display(ans)\n",
    "\n",
    "# 特殊化する\n",
    "args = [(K, 100), (r, 0.75)]\n",
    "init_val = 1.0\n",
    "func = ans.rhs.subs(args)\n",
    "# 初期値を方程式の解として求める\n",
    "c = solve(Eq(func.subs([(t, 0)]), init_val), domain=S.Reals)\n",
    "# プロットする\n",
    "C1 = symbols(\"C1\") # 積分定数用のシンボルを定義しなきゃいけないのがめんどくさい\n",
    "plot(func.subs([(C1, c[0])]), (t, -10, 15))"
   ]
  },
  {
   "cell_type": "markdown",
   "metadata": {
    "deletable": true,
    "editable": true
   },
   "source": [
    "### LiouVille(リウビル)型"
   ]
  },
  {
   "cell_type": "code",
   "execution_count": 9,
   "metadata": {
    "collapsed": false,
    "deletable": true,
    "editable": true
   },
   "outputs": [
    {
     "data": {
      "image/png": "[encoded data removed]",
      "text/latex": [
       "$$P{\\left (x \\right )} \\frac{d}{d x} y{\\left (x \\right )} + Q{\\left (y{\\left (x \\right )} \\right )} \\frac{d}{d x} y{\\left (x \\right )}^{2} + \\frac{d^{2}}{d x^{2}}  y{\\left (x \\right )} = 0$$"
      ],
      "text/plain": [
       "                                  2     2          \n",
       "     d                  ⎛d       ⎞     d           \n",
       "P(x)⋅──(y(x)) + Q(y(x))⋅⎜──(y(x))⎟  + ───(y(x)) = 0\n",
       "     dx                 ⎝dx      ⎠      2          \n",
       "                                      dx           "
      ]
     },
     "metadata": {},
     "output_type": "display_data"
    },
    {
     "data": {
      "image/png": "[encoded data removed]",
      "text/latex": [
       "$$C_{1} + C_{2} \\int e^{- \\int P{\\left (x \\right )}\\, dx}\\, dx + \\int^{y{\\left (x \\right )}} e^{\\int Q{\\left (y \\right )}\\, dy}\\, dy = 0$$"
      ],
      "text/plain": [
       "                           y(x)                  \n",
       "        ⌠                   ⌠                    \n",
       "        ⎮   ⌠               ⎮    ⌠               \n",
       "        ⎮  -⎮ P(x) dx       ⎮    ⎮ Q(y) dy       \n",
       "        ⎮   ⌡               ⎮    ⌡               \n",
       "C₁ + C₂⋅⎮ ℯ           dx +  ⎮   ℯ          dy = 0\n",
       "        ⌡                   ⌡                    \n",
       "                                                 "
      ]
     },
     "metadata": {},
     "output_type": "display_data"
    }
   ],
   "source": [
    "LiouVille = Eq(y(x).diff(x,2) + P(x)*y(x).diff(x) + Q(y(x))*y(x).diff(x)**2)\n",
    "display(LiouVille, dsolve(LiouVille, y(x), hint=\"Liouville\"))"
   ]
  },
  {
   "cell_type": "markdown",
   "metadata": {
    "collapsed": false,
    "deletable": true,
    "editable": true
   },
   "source": [
    "#### 例題"
   ]
  },
  {
   "cell_type": "code",
   "execution_count": 10,
   "metadata": {
    "collapsed": false,
    "deletable": true,
    "editable": true
   },
   "outputs": [
    {
     "data": {
      "image/png": "[encoded data removed]",
      "text/latex": [
       "$$2 x \\frac{d}{d x} y{\\left (x \\right )} + 2 y{\\left (x \\right )} \\frac{d}{d x} y{\\left (x \\right )}^{2} + \\frac{d^{2}}{d x^{2}}  y{\\left (x \\right )} = 0$$"
      ],
      "text/plain": [
       "                                2     2          \n",
       "    d                 ⎛d       ⎞     d           \n",
       "2⋅x⋅──(y(x)) + 2⋅y(x)⋅⎜──(y(x))⎟  + ───(y(x)) = 0\n",
       "    dx                ⎝dx      ⎠      2          \n",
       "                                    dx           "
      ]
     },
     "metadata": {},
     "output_type": "display_data"
    },
    {
     "data": {
      "image/png": "[encoded data removed]",
      "text/latex": [
       "$$C_{1} + C_{2} \\operatorname{erf}{\\left (x \\right )} + \\frac{\\sqrt{\\pi}}{2} \\operatorname{erfi}{\\left (y{\\left (x \\right )} \\right )} = 0$$"
      ],
      "text/plain": [
       "                 √π⋅erfi(y(x))    \n",
       "C₁ + C₂⋅erf(x) + ───────────── = 0\n",
       "                       2          "
      ]
     },
     "metadata": {},
     "output_type": "display_data"
    },
    {
     "data": {
      "image/png": "[encoded data removed]",
      "text/latex": [
       "$$C_{1} + C_{2} \\int_{0}^{x} e^{- t^{2}}\\, dt + \\int_{0}^{y{\\left (x \\right )}} e^{t^{2}}\\, dt = 0$$"
      ],
      "text/plain": [
       "        x           y(x)             \n",
       "        ⌠            ⌠               \n",
       "        ⎮    2       ⎮    ⎛ 2⎞       \n",
       "        ⎮  -t        ⎮    ⎝t ⎠       \n",
       "C₁ + C₂⋅⎮ ℯ    dt +  ⎮   ℯ     dt = 0\n",
       "        ⌡            ⌡               \n",
       "        0            0               "
      ]
     },
     "metadata": {},
     "output_type": "display_data"
    }
   ],
   "source": [
    "eq = Eq(y(x).diff(x,2) + 2*x*y(x).diff(x) + 2*y(x)*y(x).diff(x) ** 2)\n",
    "ans = dsolve(eq, hint=\"Liouville\")\n",
    "display(eq, ans, constsimp(expand_erfs(ans), x))"
   ]
  },
  {
   "cell_type": "code",
   "execution_count": 11,
   "metadata": {
    "collapsed": false,
    "deletable": true,
    "editable": true
   },
   "outputs": [
    {
     "data": {
      "image/png": "[encoded data removed]",
      "text/latex": [
       "$$\\frac{d}{d x} y{\\left (x \\right )} = \\sin{\\left (x \\right )} \\tan{\\left (y{\\left (x \\right )} \\right )}$$"
      ],
      "text/plain": [
       "d                          \n",
       "──(y(x)) = sin(x)⋅tan(y(x))\n",
       "dx                         "
      ]
     },
     "metadata": {},
     "output_type": "display_data"
    },
    {
     "data": {
      "image/png": "[encoded data removed]",
      "text/latex": [
       "$$\\left [ y{\\left (x \\right )} = - \\operatorname{acos}{\\left (- \\sqrt{C_{1} e^{- 2 \\cos{\\left (x \\right )}} + 1} \\right )} + 2 \\pi, \\quad y{\\left (x \\right )} = - \\operatorname{acos}{\\left (\\sqrt{C_{1} e^{- 2 \\cos{\\left (x \\right )}} + 1} \\right )} + 2 \\pi, \\quad y{\\left (x \\right )} = \\operatorname{acos}{\\left (- \\sqrt{C_{1} e^{- 2 \\cos{\\left (x \\right )}} + 1} \\right )}, \\quad y{\\left (x \\right )} = \\operatorname{acos}{\\left (\\sqrt{C_{1} e^{- 2 \\cos{\\left (x \\right )}} + 1} \\right )}\\right ]$$"
      ],
      "text/plain": [
       "⎡             ⎛    ___________________⎞                     ⎛   ______________\n",
       "⎢             ⎜   ╱     -2⋅cos(x)     ⎟                     ⎜  ╱     -2⋅cos(x)\n",
       "⎣y(x) = - acos⎝-╲╱  C₁⋅ℯ          + 1 ⎠ + 2⋅π, y(x) = - acos⎝╲╱  C₁⋅ℯ         \n",
       "\n",
       "_____⎞                   ⎛    ___________________⎞             ⎛   ___________\n",
       "     ⎟                   ⎜   ╱     -2⋅cos(x)     ⎟             ⎜  ╱     -2⋅cos\n",
       " + 1 ⎠ + 2⋅π, y(x) = acos⎝-╲╱  C₁⋅ℯ          + 1 ⎠, y(x) = acos⎝╲╱  C₁⋅ℯ      \n",
       "\n",
       "________⎞⎤\n",
       "(x)     ⎟⎥\n",
       "    + 1 ⎠⎦"
      ]
     },
     "metadata": {},
     "output_type": "display_data"
    }
   ],
   "source": [
    "eq = Eq(y(x).diff(x), sin(x)*tan(y(x)))\n",
    "display(eq, dsolve(eq, y(x)))"
   ]
  },
  {
   "cell_type": "markdown",
   "metadata": {
    "deletable": true,
    "editable": true
   },
   "source": [
    "### 同次型"
   ]
  },
  {
   "cell_type": "code",
   "execution_count": 12,
   "metadata": {
    "collapsed": false,
    "deletable": true,
    "editable": true
   },
   "outputs": [
    {
     "data": {
      "image/png": "[encoded data removed]",
      "text/latex": [
       "$$\\frac{d}{d x} y{\\left (x \\right )} = f{\\left (\\frac{1}{x} y{\\left (x \\right )} \\right )}$$"
      ],
      "text/plain": [
       "d           ⎛y(x)⎞\n",
       "──(y(x)) = f⎜────⎟\n",
       "dx          ⎝ x  ⎠"
      ]
     },
     "metadata": {},
     "output_type": "display_data"
    },
    {
     "data": {
      "image/png": "[encoded data removed]",
      "text/latex": [
       "$$y{\\left (x \\right )} = C_{1} e^{- \\int^{\\frac{x}{y{\\left (x \\right )}}} \\frac{f{\\left (\\frac{1}{u_{2}} \\right )}}{u_{2} f{\\left (\\frac{1}{u_{2}} \\right )} - 1}\\, du_{2}}$$"
      ],
      "text/plain": [
       "             x                     \n",
       "            ────                   \n",
       "            y(x)                   \n",
       "             ⌠                     \n",
       "             ⎮       ⎛1 ⎞          \n",
       "             ⎮      f⎜──⎟          \n",
       "             ⎮       ⎝u₂⎠          \n",
       "           - ⎮   ──────────── d(u₂)\n",
       "             ⎮       ⎛1 ⎞          \n",
       "             ⎮   u₂⋅f⎜──⎟ - 1      \n",
       "             ⎮       ⎝u₂⎠          \n",
       "             ⌡                     \n",
       "                                   \n",
       "y(x) = C₁⋅ℯ                        "
      ]
     },
     "metadata": {},
     "output_type": "display_data"
    }
   ],
   "source": [
    "eq = Eq(y(x).diff(x), f(y(x)/x))\n",
    "display(eq, dsolve(eq, y(x)))"
   ]
  },
  {
   "cell_type": "code",
   "execution_count": 13,
   "metadata": {
    "collapsed": false,
    "deletable": true,
    "editable": true,
    "scrolled": true
   },
   "outputs": [
    {
     "data": {
      "image/png": "[encoded data removed]",
      "text/latex": [
       "$$\\frac{d}{d x} y{\\left (x \\right )} = e^{\\frac{1}{x} y{\\left (x \\right )}} + \\frac{1}{x} y{\\left (x \\right )}$$"
      ],
      "text/plain": [
       "            y(x)       \n",
       "            ────       \n",
       "d            x     y(x)\n",
       "──(y(x)) = ℯ     + ────\n",
       "dx                  x  "
      ]
     },
     "metadata": {},
     "output_type": "display_data"
    },
    {
     "data": {
      "image/png": "[encoded data removed]",
      "text/latex": [
       "$$y{\\left (x \\right )} = \\log{\\left (\\left(\\frac{1}{C_{1} - \\log{\\left (x \\right )}}\\right)^{x} \\right )}$$"
      ],
      "text/plain": [
       "          ⎛             x⎞\n",
       "          ⎜⎛     1     ⎞ ⎟\n",
       "y(x) = log⎜⎜───────────⎟ ⎟\n",
       "          ⎝⎝C₁ - log(x)⎠ ⎠"
      ]
     },
     "metadata": {},
     "output_type": "display_data"
    }
   ],
   "source": [
    "eq = Eq(y(x).diff(x) , exp(y(x)/x) + y(x)/x)\n",
    "display(eq, dsolve(eq))"
   ]
  },
  {
   "cell_type": "markdown",
   "metadata": {
    "deletable": true,
    "editable": true
   },
   "source": [
    "### 分数型"
   ]
  },
  {
   "cell_type": "code",
   "execution_count": 14,
   "metadata": {
    "collapsed": false,
    "deletable": true,
    "editable": true
   },
   "outputs": [
    {
     "data": {
      "image/png": "[encoded data removed]",
      "text/latex": [
       "$$\\frac{d}{d x} y{\\left (x \\right )} = \\frac{x - 2 y{\\left (x \\right )} + 3}{2 x + y{\\left (x \\right )} - 4}$$"
      ],
      "text/plain": [
       "d          x - 2⋅y(x) + 3\n",
       "──(y(x)) = ──────────────\n",
       "dx         2⋅x + y(x) - 4"
      ]
     },
     "metadata": {},
     "output_type": "display_data"
    },
    {
     "data": {
      "image/png": "[encoded data removed]",
      "text/latex": [
       "$$\\left [ y{\\left (x \\right )} = - 2 x - \\sqrt{C_{1} + 5 x^{2} - 10 x} + 4, \\quad y{\\left (x \\right )} = - 2 x + \\sqrt{C_{1} + 5 x^{2} - 10 x} + 4\\right ]$$"
      ],
      "text/plain": [
       "⎡                 __________________                       __________________ \n",
       "⎢                ╱         2                              ╱         2         \n",
       "⎣y(x) = -2⋅x - ╲╱  C₁ + 5⋅x  - 10⋅x  + 4, y(x) = -2⋅x + ╲╱  C₁ + 5⋅x  - 10⋅x  \n",
       "\n",
       "   ⎤\n",
       "   ⎥\n",
       "+ 4⎦"
      ]
     },
     "metadata": {},
     "output_type": "display_data"
    }
   ],
   "source": [
    "eq = Eq(y(x).diff(x), (x-2*y(x)+3)/(2*x+y(x)-4))\n",
    "display(eq, dsolve(eq))"
   ]
  },
  {
   "cell_type": "code",
   "execution_count": 15,
   "metadata": {
    "collapsed": false,
    "deletable": true,
    "editable": true,
    "scrolled": true
   },
   "outputs": [
    {
     "data": {
      "image/png": "[encoded data removed]",
      "text/latex": [
       "$$\\frac{d}{d x} y{\\left (x \\right )} = \\frac{x y{\\left (x \\right )}}{x^{2} + y{\\left (x \\right )}}$$"
      ],
      "text/plain": [
       "d            x⋅y(x) \n",
       "──(y(x)) = ─────────\n",
       "dx          2       \n",
       "           x  + y(x)"
      ]
     },
     "metadata": {},
     "output_type": "display_data"
    },
    {
     "data": {
      "image/png": "[encoded data removed]",
      "text/latex": [
       "$$\\left [ y{\\left (x \\right )} = C_{1} \\left(- \\sqrt{- 2 C_{1} x^{2} + 1} - 1\\right), \\quad y{\\left (x \\right )} = C_{1} \\left(\\sqrt{- 2 C_{1} x^{2} + 1} - 1\\right)\\right ]$$"
      ],
      "text/plain": [
       "⎡          ⎛     _______________    ⎞            ⎛   _______________    ⎞⎤\n",
       "⎢          ⎜    ╱         2         ⎟            ⎜  ╱         2         ⎟⎥\n",
       "⎣y(x) = C₁⋅⎝- ╲╱  - 2⋅C₁⋅x  + 1  - 1⎠, y(x) = C₁⋅⎝╲╱  - 2⋅C₁⋅x  + 1  - 1⎠⎦"
      ]
     },
     "metadata": {},
     "output_type": "display_data"
    }
   ],
   "source": [
    "eq = Eq(y(x).diff(x), x*y(x)/(x**2+y(x)))\n",
    "display(eq, dsolve(eq, hint=\"lie_group\"))"
   ]
  },
  {
   "cell_type": "code",
   "execution_count": 16,
   "metadata": {
    "collapsed": false,
    "deletable": true,
    "editable": true
   },
   "outputs": [
    {
     "data": {
      "image/png": "[encoded data removed]",
      "text/latex": [
       "$$\\frac{d}{d x} y{\\left (x \\right )} = \\frac{x^{2} y{\\left (x \\right )}}{x^{3} + y{\\left (x \\right )}}$$"
      ],
      "text/plain": [
       "             2      \n",
       "d           x ⋅y(x) \n",
       "──(y(x)) = ─────────\n",
       "dx          3       \n",
       "           x  + y(x)"
      ]
     },
     "metadata": {},
     "output_type": "display_data"
    },
    {
     "data": {
      "image/png": "[encoded data removed]",
      "text/latex": [
       "$$\\frac{y^{3}{\\left (x \\right )}}{2 x^{3} + 3 y{\\left (x \\right )}} = 6 C_{1}$$"
      ],
      "text/plain": [
       "     3              \n",
       "    y (x)           \n",
       "───────────── = 6⋅C₁\n",
       "   3                \n",
       "2⋅x  + 3⋅y(x)       "
      ]
     },
     "metadata": {},
     "output_type": "display_data"
    },
    {
     "data": {
      "image/png": "[encoded data removed]",
      "text/latex": [
       "$$y{\\left (x \\right )} = - \\frac{18 C_{1}}{\\sqrt[3]{- 162 C_{1} x^{3} + \\frac{1}{2} \\sqrt{- 629856 C_{1}^{3} + 104976 C_{1}^{2} x^{6}}}} - \\frac{1}{3} \\sqrt[3]{- 162 C_{1} x^{3} + \\frac{1}{2} \\sqrt{- 629856 C_{1}^{3} + 104976 C_{1}^{2} x^{6}}}$$"
      ],
      "text/plain": [
       "                                                                         _____\n",
       "                                                                        ╱     \n",
       "                                                                       ╱      \n",
       "                                                                      ╱       \n",
       "                                                                   3 ╱    - 16\n",
       "                                  18⋅C₁                            ╲╱         \n",
       "y(x) = - ─────────────────────────────────────────────────────── - ───────────\n",
       "               _________________________________________________              \n",
       "              ╱                  ______________________________               \n",
       "             ╱                  ╱            3            2  6                \n",
       "            ╱             3   ╲╱  - 629856⋅C₁  + 104976⋅C₁ ⋅x                 \n",
       "         3 ╱    - 162⋅C₁⋅x  + ─────────────────────────────────               \n",
       "         ╲╱                                   2                               \n",
       "\n",
       "____________________________________________\n",
       "             ______________________________ \n",
       "            ╱            3            2  6  \n",
       "      3   ╲╱  - 629856⋅C₁  + 104976⋅C₁ ⋅x   \n",
       "2⋅C₁⋅x  + ───────────────────────────────── \n",
       "                          2                 \n",
       "────────────────────────────────────────────\n",
       "                3                           \n",
       "                                            \n",
       "                                            \n",
       "                                            \n",
       "                                            \n",
       "                                            "
      ]
     },
     "metadata": {},
     "output_type": "display_data"
    },
    {
     "data": {
      "image/png": "[encoded data removed]",
      "text/latex": [
       "$$\\mathrm{True}$$"
      ],
      "text/plain": [
       "True"
      ]
     },
     "metadata": {},
     "output_type": "display_data"
    }
   ],
   "source": [
    "# 自動で解けないのもあるので、そのときは答を代入する\n",
    "eq = Eq(y(x).diff(x), x**2*y(x)/(x**3+y(x)))\n",
    "# この答えは手で解いたもの\n",
    "ans_implicit = Eq(y(x)**3/(2*x**3+3*y(x)), 6*C1)\n",
    "# 実数解だけ取る(虚数解でも成り立つだろうけどとりあえず無視)\n",
    "ans = solve(ans_implicit, y(x))[0]\n",
    "# これがTrueなのでans_implicitが正しいと分かる\n",
    "display(eq, ans_implicit, Eq(y(x), ans), eq.subs([(y(x), ans)]).doit().simplify())"
   ]
  },
  {
   "cell_type": "markdown",
   "metadata": {
    "deletable": true,
    "editable": true
   },
   "source": [
    "### 定数変化法"
   ]
  },
  {
   "cell_type": "code",
   "execution_count": 17,
   "metadata": {
    "collapsed": false,
    "deletable": true,
    "editable": true
   },
   "outputs": [
    {
     "data": {
      "image/png": "[encoded data removed]",
      "text/latex": [
       "$$P{\\left (x \\right )} y{\\left (x \\right )} + \\frac{d}{d x} y{\\left (x \\right )} = Q{\\left (x \\right )}$$"
      ],
      "text/plain": [
       "            d              \n",
       "P(x)⋅y(x) + ──(y(x)) = Q(x)\n",
       "            dx             "
      ]
     },
     "metadata": {},
     "output_type": "display_data"
    },
    {
     "data": {
      "image/png": "[encoded data removed]",
      "text/latex": [
       "$$y{\\left (x \\right )} = \\left(C_{1} + \\int Q{\\left (x \\right )} e^{\\int P{\\left (x \\right )}\\, dx}\\, dx\\right) e^{- \\int P{\\left (x \\right )}\\, dx}$$"
      ],
      "text/plain": [
       "       ⎛     ⌠                   ⎞            \n",
       "       ⎜     ⎮       ⌠           ⎟   ⌠        \n",
       "       ⎜     ⎮       ⎮ P(x) dx   ⎟  -⎮ P(x) dx\n",
       "       ⎜     ⎮       ⌡           ⎟   ⌡        \n",
       "y(x) = ⎜C₁ + ⎮ Q(x)⋅ℯ          dx⎟⋅ℯ          \n",
       "       ⎝     ⌡                   ⎠            "
      ]
     },
     "metadata": {},
     "output_type": "display_data"
    }
   ],
   "source": [
    "eq = Eq(y(x).diff(x) + P(x)*y(x), Q(x))\n",
    "display(eq, dsolve(eq, y(x), hint=\"almost_linear\"))"
   ]
  },
  {
   "cell_type": "code",
   "execution_count": 18,
   "metadata": {
    "collapsed": false,
    "deletable": true,
    "editable": true
   },
   "outputs": [
    {
     "data": {
      "image/png": "[encoded data removed]",
      "text/latex": [
       "$$x \\frac{d}{d x} y{\\left (x \\right )} - 2 y{\\left (x \\right )} = x^{3} \\cos{\\left (x \\right )}$$"
      ],
      "text/plain": [
       "  d                    3       \n",
       "x⋅──(y(x)) - 2⋅y(x) = x ⋅cos(x)\n",
       "  dx                           "
      ]
     },
     "metadata": {},
     "output_type": "display_data"
    },
    {
     "data": {
      "image/png": "[encoded data removed]",
      "text/latex": [
       "$$y{\\left (x \\right )} = x^{2} \\left(C_{1} + \\sin{\\left (x \\right )}\\right)$$"
      ],
      "text/plain": [
       "        2              \n",
       "y(x) = x ⋅(C₁ + sin(x))"
      ]
     },
     "metadata": {},
     "output_type": "display_data"
    }
   ],
   "source": [
    "eq = Eq(x*y(x).diff(x) - 2*y(x), x**3*cos(x))\n",
    "display(eq, dsolve(eq, y(x)))"
   ]
  },
  {
   "cell_type": "code",
   "execution_count": 19,
   "metadata": {
    "collapsed": false,
    "deletable": true,
    "editable": true,
    "scrolled": true
   },
   "outputs": [
    {
     "data": {
      "image/png": "[encoded data removed]",
      "text/latex": [
       "$$\\frac{d}{d x} y{\\left (x \\right )} - \\frac{2}{x} y{\\left (x \\right )} = x^{2} \\cos{\\left (x \\right )}$$"
      ],
      "text/plain": [
       "d          2⋅y(x)    2       \n",
       "──(y(x)) - ────── = x ⋅cos(x)\n",
       "dx           x               "
      ]
     },
     "metadata": {},
     "output_type": "display_data"
    },
    {
     "data": {
      "image/png": "[encoded data removed]",
      "text/latex": [
       "$$y{\\left (x \\right )} = x^{2} \\left(C_{1} + \\sin{\\left (x \\right )}\\right)$$"
      ],
      "text/plain": [
       "        2              \n",
       "y(x) = x ⋅(C₁ + sin(x))"
      ]
     },
     "metadata": {},
     "output_type": "display_data"
    }
   ],
   "source": [
    "# 一般解から解いてみる\n",
    "eq = Eq(y(x).diff(x) + P(x)*y(x), Q(x))\n",
    "display(eq.subs([(P(x), -2/x), (Q(x), x**2*cos(x))]),\n",
    "        dsolve(eq, hint=\"almost_linear\").subs([(P(x), -2/x), (Q(x), x**2*cos(x))]).doit())"
   ]
  },
  {
   "cell_type": "markdown",
   "metadata": {
    "deletable": true,
    "editable": true
   },
   "source": [
    "## Bernoulli(ベルヌーイ)型"
   ]
  },
  {
   "cell_type": "code",
   "execution_count": 20,
   "metadata": {
    "collapsed": false,
    "deletable": true,
    "editable": true
   },
   "outputs": [
    {
     "data": {
      "image/png": "[encoded data removed]",
      "text/latex": [
       "$$P{\\left (x \\right )} y{\\left (x \\right )} + \\frac{d}{d x} y{\\left (x \\right )} = Q{\\left (x \\right )} y^{n}{\\left (x \\right )}$$"
      ],
      "text/plain": [
       "            d                n   \n",
       "P(x)⋅y(x) + ──(y(x)) = Q(x)⋅y (x)\n",
       "            dx                   "
      ]
     },
     "metadata": {},
     "output_type": "display_data"
    },
    {
     "data": {
      "image/png": "[encoded data removed]",
      "text/latex": [
       "$$y{\\left (x \\right )} = \\left(\\left(C_{1} - \\left(n - 1\\right) \\int Q{\\left (x \\right )} \\left(e^{- n \\int P{\\left (x \\right )}\\, dx}\\right) e^{\\int P{\\left (x \\right )}\\, dx}\\, dx\\right) e^{- \\left(- n + 1\\right) \\int P{\\left (x \\right )}\\, dx}\\right)^{\\frac{1}{- n + 1}}$$"
      ],
      "text/plain": [
       "                                                                              \n",
       "                                                                              \n",
       "                                                                              \n",
       "       ⎛⎛             ⌠                                 ⎞                     \n",
       "       ⎜⎜             ⎮          ⌠          ⌠           ⎟            ⌠        \n",
       "       ⎜⎜             ⎮       -n⋅⎮ P(x) dx  ⎮ P(x) dx   ⎟  -(-n + 1)⋅⎮ P(x) dx\n",
       "       ⎜⎜             ⎮          ⌡          ⌡           ⎟            ⌡        \n",
       "y(x) = ⎜⎜C₁ - (n - 1)⋅⎮ Q(x)⋅ℯ            ⋅ℯ          dx⎟⋅ℯ                   \n",
       "       ⎝⎝             ⌡                                 ⎠                     \n",
       "\n",
       "   1   \n",
       " ──────\n",
       " -n + 1\n",
       "⎞      \n",
       "⎟      \n",
       "⎟      \n",
       "⎟      \n",
       "⎟      \n",
       "⎠      "
      ]
     },
     "metadata": {},
     "output_type": "display_data"
    }
   ],
   "source": [
    "n = symbols(\"n\")\n",
    "eq = Eq(y(x).diff(x) + P(x)*y(x), Q(x)*y(x)**n)\n",
    "display(eq, dsolve(eq, hint=\"Bernoulli\"))"
   ]
  },
  {
   "cell_type": "code",
   "execution_count": 21,
   "metadata": {
    "collapsed": false,
    "deletable": true,
    "editable": true
   },
   "outputs": [
    {
     "data": {
      "image/png": "[encoded data removed]",
      "text/latex": [
       "$$x y{\\left (x \\right )} + \\frac{d}{d x} y{\\left (x \\right )} = x y^{3}{\\left (x \\right )}$$"
      ],
      "text/plain": [
       "         d             3   \n",
       "x⋅y(x) + ──(y(x)) = x⋅y (x)\n",
       "         dx                "
      ]
     },
     "metadata": {},
     "output_type": "display_data"
    },
    {
     "data": {
      "image/png": "[encoded data removed]",
      "text/latex": [
       "$$y{\\left (x \\right )} = \\frac{1}{\\sqrt{\\left(C_{1} + e^{- x^{2}}\\right) e^{x^{2}}}}$$"
      ],
      "text/plain": [
       "                  1           \n",
       "y(x) = ───────────────────────\n",
       "           ___________________\n",
       "          ╱ ⎛        2⎞  ⎛ 2⎞ \n",
       "         ╱  ⎜      -x ⎟  ⎝x ⎠ \n",
       "       ╲╱   ⎝C₁ + ℯ   ⎠⋅ℯ     "
      ]
     },
     "metadata": {},
     "output_type": "display_data"
    }
   ],
   "source": [
    "eq = Eq(y(x).diff(x)+x*y(x), x*y(x)**3)\n",
    "display(eq, dsolve(eq, hint=\"Bernoulli\"))"
   ]
  },
  {
   "cell_type": "markdown",
   "metadata": {
    "deletable": true,
    "editable": true
   },
   "source": [
    "## Riccati(リッカチ)型"
   ]
  },
  {
   "cell_type": "code",
   "execution_count": 22,
   "metadata": {
    "collapsed": false,
    "deletable": true,
    "editable": true,
    "scrolled": true
   },
   "outputs": [
    {
     "data": {
      "image/png": "[encoded data removed]",
      "text/latex": [
       "$$\\mathrm{True}$$"
      ],
      "text/plain": [
       "True"
      ]
     },
     "metadata": {},
     "output_type": "display_data"
    },
    {
     "data": {
      "image/png": "[encoded data removed]",
      "text/latex": [
       "$$2 x - \\left(- x + 2\\right) y{\\left (x \\right )} - y^{2}{\\left (x \\right )} + \\frac{d}{d x} y{\\left (x \\right )} - 1 = 0$$"
      ],
      "text/plain": [
       "                       2      d               \n",
       "2⋅x - (-x + 2)⋅y(x) - y (x) + ──(y(x)) - 1 = 0\n",
       "                              dx              "
      ]
     },
     "metadata": {},
     "output_type": "display_data"
    },
    {
     "data": {
      "image/png": "[encoded data removed]",
      "text/latex": [
       "$$- x P{\\left (x \\right )} - P^{2}{\\left (x \\right )} - 2 P{\\left (x \\right )} + \\frac{d}{d x} P{\\left (x \\right )} = 0$$"
      ],
      "text/plain": [
       "           2               d           \n",
       "-x⋅P(x) - P (x) - 2⋅P(x) + ──(P(x)) = 0\n",
       "                           dx          "
      ]
     },
     "metadata": {},
     "output_type": "display_data"
    },
    {
     "data": {
      "image/png": "[encoded data removed]",
      "text/latex": [
       "$$P{\\left (x \\right )} = \\frac{e^{x \\left(\\frac{x}{2} + 2\\right)}}{C_{1} - \\frac{\\sqrt{2} \\sqrt{\\pi}}{2 e^{2}} \\operatorname{erfi}{\\left (\\sqrt{2} \\left(\\frac{x}{2} + 1\\right) \\right )}}$$"
      ],
      "text/plain": [
       "                     ⎛x    ⎞          \n",
       "                   x⋅⎜─ + 2⎟          \n",
       "                     ⎝2    ⎠          \n",
       "                  ℯ                   \n",
       "P(x) = ───────────────────────────────\n",
       "                   -2     ⎛   ⎛x    ⎞⎞\n",
       "            √2⋅√π⋅ℯ  ⋅erfi⎜√2⋅⎜─ + 1⎟⎟\n",
       "                          ⎝   ⎝2    ⎠⎠\n",
       "       C₁ - ──────────────────────────\n",
       "                        2             "
      ]
     },
     "metadata": {},
     "output_type": "display_data"
    },
    {
     "data": {
      "image/png": "[encoded data removed]",
      "text/latex": [
       "$$- x + y{\\left (x \\right )} = \\frac{e^{x \\left(\\frac{x}{2} + 2\\right)}}{C_{1} - \\frac{\\sqrt{2} \\sqrt{\\pi}}{2 e^{2}} \\operatorname{erfi}{\\left (\\sqrt{2} \\left(\\frac{x}{2} + 1\\right) \\right )}}$$"
      ],
      "text/plain": [
       "                          ⎛x    ⎞          \n",
       "                        x⋅⎜─ + 2⎟          \n",
       "                          ⎝2    ⎠          \n",
       "                       ℯ                   \n",
       "-x + y(x) = ───────────────────────────────\n",
       "                        -2     ⎛   ⎛x    ⎞⎞\n",
       "                 √2⋅√π⋅ℯ  ⋅erfi⎜√2⋅⎜─ + 1⎟⎟\n",
       "                               ⎝   ⎝2    ⎠⎠\n",
       "            C₁ - ──────────────────────────\n",
       "                             2             "
      ]
     },
     "metadata": {},
     "output_type": "display_data"
    }
   ],
   "source": [
    "# 自動で解くのは無理っぽい\n",
    "eq = Eq(y(x).diff(x) - y(x)**2 - (2-x)*y(x) + 2*x - 1)\n",
    "spec_ans = x\n",
    "display(eq.subs([(y(x), spec_ans)]).doit().simplify())\n",
    "bern = eq.subs([(y(x), P(x)+spec_ans)]).doit().simplify()\n",
    "ans = dsolve(bern, hint=\"Bernoulli\")\n",
    "display(eq, bern, ans, ans.subs([(P(x), y(x)-x)]))"
   ]
  },
  {
   "cell_type": "markdown",
   "metadata": {
    "deletable": true,
    "editable": true
   },
   "source": [
    "## Clairaur(クレロー)型"
   ]
  },
  {
   "cell_type": "code",
   "execution_count": 23,
   "metadata": {
    "collapsed": false,
    "deletable": true,
    "editable": true
   },
   "outputs": [
    {
     "data": {
      "image/png": "[encoded data removed]",
      "text/latex": [
       "$$y{\\left (x \\right )} = \\frac{x^{2}}{4} - \\frac{1}{4} \\left(C_{1} + x\\right)^{2}$$"
      ],
      "text/plain": [
       "        2           2\n",
       "       x    (C₁ + x) \n",
       "y(x) = ── - ─────────\n",
       "       4        4    "
      ]
     },
     "execution_count": 23,
     "metadata": {},
     "output_type": "execute_result"
    }
   ],
   "source": [
    "eq = Eq(y(x), x*y(x).diff(x) - y(x).diff(x)**2)\n",
    "dsolve(eq)"
   ]
  },
  {
   "cell_type": "markdown",
   "metadata": {
    "deletable": true,
    "editable": true
   },
   "source": [
    "## 減衰振動"
   ]
  },
  {
   "cell_type": "code",
   "execution_count": 24,
   "metadata": {
    "collapsed": false,
    "deletable": true,
    "editable": true,
    "scrolled": true
   },
   "outputs": [
    {
     "data": {
      "image/png": "[encoded data removed]",
      "text/latex": [
       "$$y{\\left (x \\right )} = C_{1} e^{\\frac{x}{2 m} \\left(- u - \\sqrt{- 4 k m + u^{2}}\\right)} + C_{2} e^{\\frac{x}{2 m} \\left(- u + \\sqrt{- 4 k m + u^{2}}\\right)}$$"
      ],
      "text/plain": [
       "             ⎛        _____________⎞         ⎛        _____________⎞\n",
       "             ⎜       ╱           2 ⎟         ⎜       ╱           2 ⎟\n",
       "           x⋅⎝-u - ╲╱  -4⋅k⋅m + u  ⎠       x⋅⎝-u + ╲╱  -4⋅k⋅m + u  ⎠\n",
       "           ─────────────────────────       ─────────────────────────\n",
       "                      2⋅m                             2⋅m           \n",
       "y(x) = C₁⋅ℯ                          + C₂⋅ℯ                         "
      ]
     },
     "execution_count": 24,
     "metadata": {},
     "output_type": "execute_result"
    }
   ],
   "source": [
    "m, k, u = symbols(\"m k u\")\n",
    "eq = Eq(m*y(x).diff(x,2), -k*y(x) - u * y(x).diff(x))\n",
    "dsolve(eq)"
   ]
  },
  {
   "cell_type": "markdown",
   "metadata": {
    "deletable": true,
    "editable": true
   },
   "source": [
    "### 定数係数斉次線形"
   ]
  },
  {
   "cell_type": "code",
   "execution_count": 25,
   "metadata": {
    "collapsed": false,
    "deletable": true,
    "editable": true
   },
   "outputs": [
    {
     "data": {
      "image/png": "[encoded data removed]",
      "text/latex": [
       "$$- 6 y{\\left (x \\right )} - \\frac{d}{d x} y{\\left (x \\right )} + \\frac{d^{2}}{d x^{2}}  y{\\left (x \\right )} = 0$$"
      ],
      "text/plain": [
       "                       2          \n",
       "          d           d           \n",
       "-6⋅y(x) - ──(y(x)) + ───(y(x)) = 0\n",
       "          dx           2          \n",
       "                     dx           "
      ]
     },
     "metadata": {},
     "output_type": "display_data"
    },
    {
     "data": {
      "image/png": "[encoded data removed]",
      "text/latex": [
       "$$y{\\left (x \\right )} = C_{1} e^{- 2 x} + C_{2} e^{3 x}$$"
      ],
      "text/plain": [
       "           -2⋅x       3⋅x\n",
       "y(x) = C₁⋅ℯ     + C₂⋅ℯ   "
      ]
     },
     "metadata": {},
     "output_type": "display_data"
    }
   ],
   "source": [
    "# 一番簡単なやつ\n",
    "eq = Eq(y(x).diff(x,2) - y(x).diff(x) - 6*y(x))\n",
    "display(eq, dsolve(eq))"
   ]
  },
  {
   "cell_type": "code",
   "execution_count": 26,
   "metadata": {
    "collapsed": false,
    "deletable": true,
    "editable": true
   },
   "outputs": [
    {
     "data": {
      "image/png": "[encoded data removed]",
      "text/latex": [
       "$$9 y{\\left (x \\right )} - 6 \\frac{d}{d x} y{\\left (x \\right )} + \\frac{d^{2}}{d x^{2}}  y{\\left (x \\right )} = 0$$"
      ],
      "text/plain": [
       "                        2          \n",
       "           d           d           \n",
       "9⋅y(x) - 6⋅──(y(x)) + ───(y(x)) = 0\n",
       "           dx           2          \n",
       "                      dx           "
      ]
     },
     "metadata": {},
     "output_type": "display_data"
    },
    {
     "data": {
      "image/png": "[encoded data removed]",
      "text/latex": [
       "$$y{\\left (x \\right )} = \\left(C_{1} + C_{2} x\\right) e^{3 x}$$"
      ],
      "text/plain": [
       "                    3⋅x\n",
       "y(x) = (C₁ + C₂⋅x)⋅ℯ   "
      ]
     },
     "metadata": {},
     "output_type": "display_data"
    }
   ],
   "source": [
    "# 重解のパターン\n",
    "eq = Eq(y(x).diff(x, 2) - 6*y(x).diff(x) + 9*y(x))\n",
    "display(eq, dsolve(eq))"
   ]
  },
  {
   "cell_type": "code",
   "execution_count": 27,
   "metadata": {
    "collapsed": false,
    "deletable": true,
    "editable": true
   },
   "outputs": [
    {
     "data": {
      "image/png": "[encoded data removed]",
      "text/latex": [
       "$$- 4 y{\\left (x \\right )} + 8 \\frac{d}{d x} y{\\left (x \\right )} - 5 \\frac{d^{2}}{d x^{2}}  y{\\left (x \\right )} + \\frac{d^{3}}{d x^{3}}  y{\\left (x \\right )} = 0$$"
      ],
      "text/plain": [
       "                           2           3          \n",
       "            d             d           d           \n",
       "-4⋅y(x) + 8⋅──(y(x)) - 5⋅───(y(x)) + ───(y(x)) = 0\n",
       "            dx             2           3          \n",
       "                         dx          dx           "
      ]
     },
     "metadata": {},
     "output_type": "display_data"
    },
    {
     "data": {
      "image/png": "[encoded data removed]",
      "text/latex": [
       "$$y{\\left (x \\right )} = \\left(C_{1} + \\left(C_{2} + C_{3} x\\right) e^{x}\\right) e^{x}$$"
      ],
      "text/plain": [
       "       ⎛                  x⎞  x\n",
       "y(x) = ⎝C₁ + (C₂ + C₃⋅x)⋅ℯ ⎠⋅ℯ "
      ]
     },
     "metadata": {},
     "output_type": "display_data"
    }
   ],
   "source": [
    "eq = Eq(y(x).diff(x,3) - 5*y(x).diff(x,2) + 8*y(x).diff(x) - 4*y(x))\n",
    "display(eq, dsolve(eq))"
   ]
  },
  {
   "cell_type": "code",
   "execution_count": 28,
   "metadata": {
    "collapsed": false,
    "deletable": true,
    "editable": true,
    "scrolled": true
   },
   "outputs": [
    {
     "data": {
      "image/png": "[encoded data removed]",
      "text/latex": [
       "$$16 y{\\left (x \\right )} - 8 \\frac{d^{2}}{d x^{2}}  y{\\left (x \\right )} + \\frac{d^{4}}{d x^{4}}  y{\\left (x \\right )} = 0$$"
      ],
      "text/plain": [
       "              2           4          \n",
       "             d           d           \n",
       "16⋅y(x) - 8⋅───(y(x)) + ───(y(x)) = 0\n",
       "              2           4          \n",
       "            dx          dx           "
      ]
     },
     "metadata": {},
     "output_type": "display_data"
    },
    {
     "data": {
      "image/png": "[encoded data removed]",
      "text/latex": [
       "$$y{\\left (x \\right )} = \\left(C_{1} + C_{2} x\\right) e^{- 2 x} + \\left(C_{3} + C_{4} x\\right) e^{2 x}$$"
      ],
      "text/plain": [
       "                    -2⋅x                2⋅x\n",
       "y(x) = (C₁ + C₂⋅x)⋅ℯ     + (C₃ + C₄⋅x)⋅ℯ   "
      ]
     },
     "metadata": {},
     "output_type": "display_data"
    }
   ],
   "source": [
    "eq = Eq(y(x).diff(x,4) - 8*y(x).diff(x,2) + 16*y(x))\n",
    "display(eq, dsolve(eq))"
   ]
  },
  {
   "cell_type": "markdown",
   "metadata": {
    "deletable": true,
    "editable": true
   },
   "source": [
    "### 定数係数非斉次線形"
   ]
  },
  {
   "cell_type": "code",
   "execution_count": 29,
   "metadata": {
    "collapsed": false,
    "deletable": true,
    "editable": true
   },
   "outputs": [
    {
     "data": {
      "image/png": "[encoded data removed]",
      "text/latex": [
       "$$2 y{\\left (x \\right )} + 3 \\frac{d}{d x} y{\\left (x \\right )} + \\frac{d^{2}}{d x^{2}}  y{\\left (x \\right )} = e^{3 x}$$"
      ],
      "text/plain": [
       "                        2             \n",
       "           d           d           3⋅x\n",
       "2⋅y(x) + 3⋅──(y(x)) + ───(y(x)) = ℯ   \n",
       "           dx           2             \n",
       "                      dx              "
      ]
     },
     "metadata": {},
     "output_type": "display_data"
    },
    {
     "data": {
      "image/png": "[encoded data removed]",
      "text/latex": [
       "$$y{\\left (x \\right )} = C_{1} e^{- 2 x} + C_{2} e^{- x} + \\frac{e^{3 x}}{20}$$"
      ],
      "text/plain": [
       "                            3⋅x\n",
       "           -2⋅x       -x   ℯ   \n",
       "y(x) = C₁⋅ℯ     + C₂⋅ℯ   + ────\n",
       "                            20 "
      ]
     },
     "metadata": {},
     "output_type": "display_data"
    }
   ],
   "source": [
    "eq = Eq(y(x).diff(x, 2) + 3*y(x).diff(x) + 2*y(x), exp(3*x))\n",
    "display(eq, dsolve(eq))"
   ]
  },
  {
   "cell_type": "code",
   "execution_count": 30,
   "metadata": {
    "collapsed": false,
    "deletable": true,
    "editable": true
   },
   "outputs": [
    {
     "data": {
      "image/png": "[encoded data removed]",
      "text/latex": [
       "$$y{\\left (x \\right )} + 2 \\frac{d}{d x} y{\\left (x \\right )} + \\frac{d^{2}}{d x^{2}}  y{\\left (x \\right )} = e^{- x}$$"
      ],
      "text/plain": [
       "                      2            \n",
       "         d           d           -x\n",
       "y(x) + 2⋅──(y(x)) + ───(y(x)) = ℯ  \n",
       "         dx           2            \n",
       "                    dx             "
      ]
     },
     "metadata": {},
     "output_type": "display_data"
    },
    {
     "data": {
      "image/png": "[encoded data removed]",
      "text/latex": [
       "$$y{\\left (x \\right )} = \\left(C_{1} + C_{2} x + \\frac{x^{2}}{2}\\right) e^{- x}$$"
      ],
      "text/plain": [
       "       ⎛             2⎞    \n",
       "       ⎜            x ⎟  -x\n",
       "y(x) = ⎜C₁ + C₂⋅x + ──⎟⋅ℯ  \n",
       "       ⎝            2 ⎠    "
      ]
     },
     "metadata": {},
     "output_type": "display_data"
    }
   ],
   "source": [
    "eq = Eq(y(x).diff(x, 2) + 2*y(x).diff(x) + y(x), exp(-x))\n",
    "display(eq, dsolve(eq))"
   ]
  },
  {
   "cell_type": "code",
   "execution_count": 31,
   "metadata": {
    "collapsed": false,
    "deletable": true,
    "editable": true
   },
   "outputs": [
    {
     "data": {
      "image/png": "[encoded data removed]",
      "text/latex": [
       "$$2 y{\\left (x \\right )} + 3 \\frac{d}{d x} y{\\left (x \\right )} + \\frac{d^{2}}{d x^{2}}  y{\\left (x \\right )} = x$$"
      ],
      "text/plain": [
       "                        2          \n",
       "           d           d           \n",
       "2⋅y(x) + 3⋅──(y(x)) + ───(y(x)) = x\n",
       "           dx           2          \n",
       "                      dx           "
      ]
     },
     "metadata": {},
     "output_type": "display_data"
    },
    {
     "data": {
      "image/png": "[encoded data removed]",
      "text/latex": [
       "$$y{\\left (x \\right )} = C_{1} e^{- 2 x} + C_{2} e^{- x} + \\frac{x}{2} - \\frac{3}{4}$$"
      ],
      "text/plain": [
       "           -2⋅x       -x   x   3\n",
       "y(x) = C₁⋅ℯ     + C₂⋅ℯ   + ─ - ─\n",
       "                           2   4"
      ]
     },
     "metadata": {},
     "output_type": "display_data"
    }
   ],
   "source": [
    "eq = Eq(y(x).diff(x, 2) + 3*y(x).diff(x) + 2*y(x), x)\n",
    "display(eq, dsolve(eq))"
   ]
  },
  {
   "cell_type": "code",
   "execution_count": 32,
   "metadata": {
    "collapsed": false,
    "deletable": true,
    "editable": true
   },
   "outputs": [
    {
     "data": {
      "image/png": "[encoded data removed]",
      "text/latex": [
       "$$- 2 y{\\left (x \\right )} - \\frac{d}{d x} y{\\left (x \\right )} + \\frac{d^{2}}{d x^{2}}  y{\\left (x \\right )} = x^{2}$$"
      ],
      "text/plain": [
       "                       2           \n",
       "          d           d           2\n",
       "-2⋅y(x) - ──(y(x)) + ───(y(x)) = x \n",
       "          dx           2           \n",
       "                     dx            "
      ]
     },
     "metadata": {},
     "output_type": "display_data"
    },
    {
     "data": {
      "image/png": "[encoded data removed]",
      "text/latex": [
       "$$y{\\left (x \\right )} = C_{1} e^{- x} + C_{2} e^{2 x} - \\frac{x^{2}}{2} + \\frac{x}{2} - \\frac{3}{4}$$"
      ],
      "text/plain": [
       "                           2        \n",
       "           -x       2⋅x   x    x   3\n",
       "y(x) = C₁⋅ℯ   + C₂⋅ℯ    - ── + ─ - ─\n",
       "                          2    2   4"
      ]
     },
     "metadata": {},
     "output_type": "display_data"
    }
   ],
   "source": [
    "eq = Eq(y(x).diff(x, 2) - y(x).diff(x) - 2*y(x), x**2)\n",
    "display(eq, dsolve(eq))"
   ]
  },
  {
   "cell_type": "code",
   "execution_count": 33,
   "metadata": {
    "collapsed": false,
    "deletable": true,
    "editable": true
   },
   "outputs": [
    {
     "data": {
      "image/png": "[encoded data removed]",
      "text/latex": [
       "$$a^{2} y{\\left (x \\right )} + 2 a \\frac{d}{d x} y{\\left (x \\right )} + \\frac{d^{2}}{d x^{2}}  y{\\left (x \\right )} = x$$"
      ],
      "text/plain": [
       "                           2          \n",
       " 2            d           d           \n",
       "a ⋅y(x) + 2⋅a⋅──(y(x)) + ───(y(x)) = x\n",
       "              dx           2          \n",
       "                         dx           "
      ]
     },
     "metadata": {},
     "output_type": "display_data"
    },
    {
     "data": {
      "image/png": "[encoded data removed]",
      "text/latex": [
       "$$y{\\left (x \\right )} = \\left(C_{1} + C_{2} x\\right) e^{- a x} + \\frac{x}{a^{2}} - \\frac{2}{a^{3}}$$"
      ],
      "text/plain": [
       "                    -a⋅x   x    2 \n",
       "y(x) = (C₁ + C₂⋅x)⋅ℯ     + ── - ──\n",
       "                            2    3\n",
       "                           a    a "
      ]
     },
     "metadata": {},
     "output_type": "display_data"
    }
   ],
   "source": [
    "eq = Eq(y(x).diff(x, 2) + 2*a*y(x).diff(x) + a**2*y(x), x)\n",
    "display(eq, dsolve(eq))"
   ]
  }
 ],
 "metadata": {
  "kernelspec": {
   "display_name": "Python 3",
   "language": "python",
   "name": "python3"
  },
  "language_info": {
   "codemirror_mode": {
    "name": "ipython",
    "version": 3
   },
   "file_extension": ".py",
   "mimetype": "text/x-python",
   "name": "python",
   "nbconvert_exporter": "python",
   "pygments_lexer": "ipython3",
   "version": "3.5.1"
  }
 },
 "nbformat": 4,
 "nbformat_minor": 2
}
